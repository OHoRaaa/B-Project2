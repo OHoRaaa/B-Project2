{
 "cells": [
  {
   "cell_type": "code",
   "execution_count": 80,
   "id": "264658ae",
   "metadata": {},
   "outputs": [],
   "source": [
    "import pandas as pd\n",
    "import numpy as np\n",
    "import matplotlib.pyplot as plt\n",
    "import seaborn as sns"
   ]
  },
  {
   "cell_type": "code",
   "execution_count": 81,
   "id": "fda1f292",
   "metadata": {},
   "outputs": [],
   "source": [
    "import warnings\n",
    "\n",
    "warnings.filterwarnings(action='ignore')"
   ]
  },
  {
   "cell_type": "code",
   "execution_count": 82,
   "id": "499d604b",
   "metadata": {},
   "outputs": [
    {
     "data": {
      "text/html": [
       "<div>\n",
       "<style scoped>\n",
       "    .dataframe tbody tr th:only-of-type {\n",
       "        vertical-align: middle;\n",
       "    }\n",
       "\n",
       "    .dataframe tbody tr th {\n",
       "        vertical-align: top;\n",
       "    }\n",
       "\n",
       "    .dataframe thead th {\n",
       "        text-align: right;\n",
       "    }\n",
       "</style>\n",
       "<table border=\"1\" class=\"dataframe\">\n",
       "  <thead>\n",
       "    <tr style=\"text-align: right;\">\n",
       "      <th></th>\n",
       "      <th>Unnamed: 0</th>\n",
       "      <th>date</th>\n",
       "      <th>tesla</th>\n",
       "      <th>tesla_거래량</th>\n",
       "      <th>tesla_volatility</th>\n",
       "      <th>elec_fee</th>\n",
       "      <th>oli_price</th>\n",
       "      <th>oli_price_volatility</th>\n",
       "      <th>carbon_credits</th>\n",
       "      <th>carbon_credits_volatility</th>\n",
       "      <th>...</th>\n",
       "      <th>dollar</th>\n",
       "      <th>dollar_volatility</th>\n",
       "      <th>alu_price</th>\n",
       "      <th>alu_vol</th>\n",
       "      <th>alu_change</th>\n",
       "      <th>cu_price</th>\n",
       "      <th>cu_change</th>\n",
       "      <th>REGI_price</th>\n",
       "      <th>REGI_vol</th>\n",
       "      <th>REGI_change</th>\n",
       "    </tr>\n",
       "  </thead>\n",
       "  <tbody>\n",
       "    <tr>\n",
       "      <th>0</th>\n",
       "      <td>0</td>\n",
       "      <td>2015-01-02</td>\n",
       "      <td>43.86</td>\n",
       "      <td>23820.0</td>\n",
       "      <td>-1.39</td>\n",
       "      <td>6.67</td>\n",
       "      <td>52.69</td>\n",
       "      <td>-3.44</td>\n",
       "      <td>7.01</td>\n",
       "      <td>-3.31</td>\n",
       "      <td>...</td>\n",
       "      <td>91.08</td>\n",
       "      <td>0.90</td>\n",
       "      <td>1828.00</td>\n",
       "      <td>31.38</td>\n",
       "      <td>-1.12</td>\n",
       "      <td>6250.25</td>\n",
       "      <td>-0.55</td>\n",
       "      <td>9.79</td>\n",
       "      <td>436.60</td>\n",
       "      <td>0.82</td>\n",
       "    </tr>\n",
       "    <tr>\n",
       "      <th>1</th>\n",
       "      <td>1</td>\n",
       "      <td>2015-01-05</td>\n",
       "      <td>42.02</td>\n",
       "      <td>26840.0</td>\n",
       "      <td>-4.20</td>\n",
       "      <td>6.67</td>\n",
       "      <td>50.04</td>\n",
       "      <td>-5.03</td>\n",
       "      <td>6.90</td>\n",
       "      <td>-1.57</td>\n",
       "      <td>...</td>\n",
       "      <td>91.38</td>\n",
       "      <td>0.33</td>\n",
       "      <td>1812.25</td>\n",
       "      <td>43.25</td>\n",
       "      <td>-0.86</td>\n",
       "      <td>6142.00</td>\n",
       "      <td>-1.73</td>\n",
       "      <td>9.55</td>\n",
       "      <td>481.67</td>\n",
       "      <td>-2.45</td>\n",
       "    </tr>\n",
       "    <tr>\n",
       "      <th>2</th>\n",
       "      <td>2</td>\n",
       "      <td>2015-01-06</td>\n",
       "      <td>42.26</td>\n",
       "      <td>31310.0</td>\n",
       "      <td>0.57</td>\n",
       "      <td>6.67</td>\n",
       "      <td>47.93</td>\n",
       "      <td>-4.22</td>\n",
       "      <td>6.77</td>\n",
       "      <td>-1.88</td>\n",
       "      <td>...</td>\n",
       "      <td>91.50</td>\n",
       "      <td>0.13</td>\n",
       "      <td>1780.25</td>\n",
       "      <td>56.01</td>\n",
       "      <td>-1.77</td>\n",
       "      <td>6131.00</td>\n",
       "      <td>-0.18</td>\n",
       "      <td>9.12</td>\n",
       "      <td>534.76</td>\n",
       "      <td>-4.50</td>\n",
       "    </tr>\n",
       "    <tr>\n",
       "      <th>3</th>\n",
       "      <td>3</td>\n",
       "      <td>2015-01-07</td>\n",
       "      <td>42.19</td>\n",
       "      <td>14840.0</td>\n",
       "      <td>-0.17</td>\n",
       "      <td>6.67</td>\n",
       "      <td>48.65</td>\n",
       "      <td>1.50</td>\n",
       "      <td>6.78</td>\n",
       "      <td>0.15</td>\n",
       "      <td>...</td>\n",
       "      <td>91.89</td>\n",
       "      <td>0.43</td>\n",
       "      <td>1783.50</td>\n",
       "      <td>61.45</td>\n",
       "      <td>0.18</td>\n",
       "      <td>6125.00</td>\n",
       "      <td>-0.10</td>\n",
       "      <td>9.19</td>\n",
       "      <td>267.66</td>\n",
       "      <td>0.77</td>\n",
       "    </tr>\n",
       "    <tr>\n",
       "      <th>4</th>\n",
       "      <td>4</td>\n",
       "      <td>2015-01-08</td>\n",
       "      <td>42.12</td>\n",
       "      <td>17210.0</td>\n",
       "      <td>-0.17</td>\n",
       "      <td>6.67</td>\n",
       "      <td>48.79</td>\n",
       "      <td>0.29</td>\n",
       "      <td>6.81</td>\n",
       "      <td>0.44</td>\n",
       "      <td>...</td>\n",
       "      <td>92.37</td>\n",
       "      <td>0.52</td>\n",
       "      <td>1825.50</td>\n",
       "      <td>75.03</td>\n",
       "      <td>2.35</td>\n",
       "      <td>6122.75</td>\n",
       "      <td>-0.04</td>\n",
       "      <td>9.43</td>\n",
       "      <td>359.25</td>\n",
       "      <td>2.61</td>\n",
       "    </tr>\n",
       "    <tr>\n",
       "      <th>...</th>\n",
       "      <td>...</td>\n",
       "      <td>...</td>\n",
       "      <td>...</td>\n",
       "      <td>...</td>\n",
       "      <td>...</td>\n",
       "      <td>...</td>\n",
       "      <td>...</td>\n",
       "      <td>...</td>\n",
       "      <td>...</td>\n",
       "      <td>...</td>\n",
       "      <td>...</td>\n",
       "      <td>...</td>\n",
       "      <td>...</td>\n",
       "      <td>...</td>\n",
       "      <td>...</td>\n",
       "      <td>...</td>\n",
       "      <td>...</td>\n",
       "      <td>...</td>\n",
       "      <td>...</td>\n",
       "      <td>...</td>\n",
       "      <td>...</td>\n",
       "    </tr>\n",
       "    <tr>\n",
       "      <th>1802</th>\n",
       "      <td>1802</td>\n",
       "      <td>2022-02-28</td>\n",
       "      <td>870.43</td>\n",
       "      <td>32770.0</td>\n",
       "      <td>7.48</td>\n",
       "      <td>7.16</td>\n",
       "      <td>95.72</td>\n",
       "      <td>4.51</td>\n",
       "      <td>82.65</td>\n",
       "      <td>-5.83</td>\n",
       "      <td>...</td>\n",
       "      <td>96.71</td>\n",
       "      <td>0.10</td>\n",
       "      <td>3368.50</td>\n",
       "      <td>85.69</td>\n",
       "      <td>0.33</td>\n",
       "      <td>9883.50</td>\n",
       "      <td>0.11</td>\n",
       "      <td>61.50</td>\n",
       "      <td>12740.00</td>\n",
       "      <td>40.38</td>\n",
       "    </tr>\n",
       "    <tr>\n",
       "      <th>1803</th>\n",
       "      <td>1803</td>\n",
       "      <td>2022-03-01</td>\n",
       "      <td>864.37</td>\n",
       "      <td>24720.0</td>\n",
       "      <td>-0.70</td>\n",
       "      <td>7.16</td>\n",
       "      <td>103.41</td>\n",
       "      <td>8.03</td>\n",
       "      <td>69.74</td>\n",
       "      <td>-15.62</td>\n",
       "      <td>...</td>\n",
       "      <td>97.41</td>\n",
       "      <td>0.73</td>\n",
       "      <td>3478.00</td>\n",
       "      <td>68.56</td>\n",
       "      <td>3.25</td>\n",
       "      <td>10061.50</td>\n",
       "      <td>1.80</td>\n",
       "      <td>60.75</td>\n",
       "      <td>4790.00</td>\n",
       "      <td>-1.22</td>\n",
       "    </tr>\n",
       "    <tr>\n",
       "      <th>1804</th>\n",
       "      <td>1804</td>\n",
       "      <td>2022-03-02</td>\n",
       "      <td>879.89</td>\n",
       "      <td>24650.0</td>\n",
       "      <td>1.80</td>\n",
       "      <td>7.16</td>\n",
       "      <td>110.60</td>\n",
       "      <td>6.95</td>\n",
       "      <td>67.72</td>\n",
       "      <td>-2.90</td>\n",
       "      <td>...</td>\n",
       "      <td>97.39</td>\n",
       "      <td>-0.02</td>\n",
       "      <td>3569.00</td>\n",
       "      <td>68.40</td>\n",
       "      <td>2.62</td>\n",
       "      <td>10166.00</td>\n",
       "      <td>1.04</td>\n",
       "      <td>60.86</td>\n",
       "      <td>5040.00</td>\n",
       "      <td>0.18</td>\n",
       "    </tr>\n",
       "    <tr>\n",
       "      <th>1805</th>\n",
       "      <td>1805</td>\n",
       "      <td>2022-03-03</td>\n",
       "      <td>839.29</td>\n",
       "      <td>20260.0</td>\n",
       "      <td>-4.61</td>\n",
       "      <td>7.16</td>\n",
       "      <td>107.67</td>\n",
       "      <td>-2.65</td>\n",
       "      <td>67.01</td>\n",
       "      <td>-1.05</td>\n",
       "      <td>...</td>\n",
       "      <td>97.79</td>\n",
       "      <td>0.41</td>\n",
       "      <td>3716.50</td>\n",
       "      <td>106.23</td>\n",
       "      <td>4.13</td>\n",
       "      <td>10351.00</td>\n",
       "      <td>1.82</td>\n",
       "      <td>61.26</td>\n",
       "      <td>5430.00</td>\n",
       "      <td>0.66</td>\n",
       "    </tr>\n",
       "    <tr>\n",
       "      <th>1806</th>\n",
       "      <td>1806</td>\n",
       "      <td>2022-03-04</td>\n",
       "      <td>838.29</td>\n",
       "      <td>22390.0</td>\n",
       "      <td>-0.12</td>\n",
       "      <td>7.16</td>\n",
       "      <td>115.68</td>\n",
       "      <td>7.44</td>\n",
       "      <td>65.80</td>\n",
       "      <td>-1.81</td>\n",
       "      <td>...</td>\n",
       "      <td>98.65</td>\n",
       "      <td>0.88</td>\n",
       "      <td>3849.00</td>\n",
       "      <td>106.23</td>\n",
       "      <td>3.57</td>\n",
       "      <td>10674.00</td>\n",
       "      <td>3.12</td>\n",
       "      <td>61.04</td>\n",
       "      <td>4290.00</td>\n",
       "      <td>-0.36</td>\n",
       "    </tr>\n",
       "  </tbody>\n",
       "</table>\n",
       "<p>1807 rows × 46 columns</p>\n",
       "</div>"
      ],
      "text/plain": [
       "      Unnamed: 0        date   tesla  tesla_거래량  tesla_volatility  elec_fee  \\\n",
       "0              0  2015-01-02   43.86    23820.0             -1.39      6.67   \n",
       "1              1  2015-01-05   42.02    26840.0             -4.20      6.67   \n",
       "2              2  2015-01-06   42.26    31310.0              0.57      6.67   \n",
       "3              3  2015-01-07   42.19    14840.0             -0.17      6.67   \n",
       "4              4  2015-01-08   42.12    17210.0             -0.17      6.67   \n",
       "...          ...         ...     ...        ...               ...       ...   \n",
       "1802        1802  2022-02-28  870.43    32770.0              7.48      7.16   \n",
       "1803        1803  2022-03-01  864.37    24720.0             -0.70      7.16   \n",
       "1804        1804  2022-03-02  879.89    24650.0              1.80      7.16   \n",
       "1805        1805  2022-03-03  839.29    20260.0             -4.61      7.16   \n",
       "1806        1806  2022-03-04  838.29    22390.0             -0.12      7.16   \n",
       "\n",
       "      oli_price  oli_price_volatility  carbon_credits  \\\n",
       "0         52.69                 -3.44            7.01   \n",
       "1         50.04                 -5.03            6.90   \n",
       "2         47.93                 -4.22            6.77   \n",
       "3         48.65                  1.50            6.78   \n",
       "4         48.79                  0.29            6.81   \n",
       "...         ...                   ...             ...   \n",
       "1802      95.72                  4.51           82.65   \n",
       "1803     103.41                  8.03           69.74   \n",
       "1804     110.60                  6.95           67.72   \n",
       "1805     107.67                 -2.65           67.01   \n",
       "1806     115.68                  7.44           65.80   \n",
       "\n",
       "      carbon_credits_volatility  ...  dollar  dollar_volatility  alu_price  \\\n",
       "0                         -3.31  ...   91.08               0.90    1828.00   \n",
       "1                         -1.57  ...   91.38               0.33    1812.25   \n",
       "2                         -1.88  ...   91.50               0.13    1780.25   \n",
       "3                          0.15  ...   91.89               0.43    1783.50   \n",
       "4                          0.44  ...   92.37               0.52    1825.50   \n",
       "...                         ...  ...     ...                ...        ...   \n",
       "1802                      -5.83  ...   96.71               0.10    3368.50   \n",
       "1803                     -15.62  ...   97.41               0.73    3478.00   \n",
       "1804                      -2.90  ...   97.39              -0.02    3569.00   \n",
       "1805                      -1.05  ...   97.79               0.41    3716.50   \n",
       "1806                      -1.81  ...   98.65               0.88    3849.00   \n",
       "\n",
       "      alu_vol  alu_change  cu_price  cu_change  REGI_price  REGI_vol  \\\n",
       "0       31.38       -1.12   6250.25      -0.55        9.79    436.60   \n",
       "1       43.25       -0.86   6142.00      -1.73        9.55    481.67   \n",
       "2       56.01       -1.77   6131.00      -0.18        9.12    534.76   \n",
       "3       61.45        0.18   6125.00      -0.10        9.19    267.66   \n",
       "4       75.03        2.35   6122.75      -0.04        9.43    359.25   \n",
       "...       ...         ...       ...        ...         ...       ...   \n",
       "1802    85.69        0.33   9883.50       0.11       61.50  12740.00   \n",
       "1803    68.56        3.25  10061.50       1.80       60.75   4790.00   \n",
       "1804    68.40        2.62  10166.00       1.04       60.86   5040.00   \n",
       "1805   106.23        4.13  10351.00       1.82       61.26   5430.00   \n",
       "1806   106.23        3.57  10674.00       3.12       61.04   4290.00   \n",
       "\n",
       "      REGI_change  \n",
       "0            0.82  \n",
       "1           -2.45  \n",
       "2           -4.50  \n",
       "3            0.77  \n",
       "4            2.61  \n",
       "...           ...  \n",
       "1802        40.38  \n",
       "1803        -1.22  \n",
       "1804         0.18  \n",
       "1805         0.66  \n",
       "1806        -0.36  \n",
       "\n",
       "[1807 rows x 46 columns]"
      ]
     },
     "execution_count": 82,
     "metadata": {},
     "output_type": "execute_result"
    }
   ],
   "source": [
    "df_tesla = pd.read_csv('./Data/테슬라 총합.csv')\n",
    "df_tesla"
   ]
  },
  {
   "cell_type": "code",
   "execution_count": 83,
   "id": "ec1f1ae5",
   "metadata": {},
   "outputs": [
    {
     "data": {
      "text/plain": [
       "Index(['Unnamed: 0', 'date', 'tesla', 'tesla_거래량', 'tesla_volatility',\n",
       "       'elec_fee', 'oli_price', 'oli_price_volatility', 'carbon_credits',\n",
       "       'carbon_credits_volatility', 'EVE종가', 'EVE거래량', 'EVE변동률', 'BYD종가',\n",
       "       'BYD거래량', 'BYD변동률', 'PSI종가', 'PSI거래량', 'SOXX종가', 'SOXX거래량', 'SOXL종가',\n",
       "       'SOXL거래량', 'LIT조정종가', 'LIT거래량', 'SGL종가', 'SGL변동률', 'li_price', 'co',\n",
       "       'co_volatility', '희토류가격', 'nasdaq', 'nasdaq_거래량', 'nasdaq_volatility',\n",
       "       'ssec', 'ssec_거래량', 'ssec_volatility', 'dollar', 'dollar_volatility',\n",
       "       'alu_price', 'alu_vol', 'alu_change', 'cu_price', 'cu_change',\n",
       "       'REGI_price', 'REGI_vol', 'REGI_change'],\n",
       "      dtype='object')"
      ]
     },
     "execution_count": 83,
     "metadata": {},
     "output_type": "execute_result"
    }
   ],
   "source": [
    "df_tesla.columns"
   ]
  },
  {
   "cell_type": "code",
   "execution_count": 84,
   "id": "57afddc2",
   "metadata": {
    "scrolled": true
   },
   "outputs": [
    {
     "data": {
      "text/plain": [
       "Unnamed: 0                   0\n",
       "date                         0\n",
       "tesla                        0\n",
       "tesla_거래량                    0\n",
       "tesla_volatility             0\n",
       "elec_fee                     0\n",
       "oli_price                    0\n",
       "oli_price_volatility         0\n",
       "carbon_credits               0\n",
       "carbon_credits_volatility    0\n",
       "EVE종가                        0\n",
       "EVE거래량                       0\n",
       "EVE변동률                       0\n",
       "BYD종가                        0\n",
       "BYD거래량                       0\n",
       "BYD변동률                       0\n",
       "PSI종가                        0\n",
       "PSI거래량                       0\n",
       "SOXX종가                       0\n",
       "SOXX거래량                      0\n",
       "SOXL종가                       0\n",
       "SOXL거래량                      0\n",
       "LIT조정종가                      0\n",
       "LIT거래량                       0\n",
       "SGL종가                        0\n",
       "SGL변동률                       0\n",
       "li_price                     0\n",
       "co                           0\n",
       "co_volatility                0\n",
       "희토류가격                        0\n",
       "nasdaq                       0\n",
       "nasdaq_거래량                   0\n",
       "nasdaq_volatility            0\n",
       "ssec                         0\n",
       "ssec_거래량                     0\n",
       "ssec_volatility              0\n",
       "dollar                       0\n",
       "dollar_volatility            0\n",
       "alu_price                    0\n",
       "alu_vol                      0\n",
       "alu_change                   0\n",
       "cu_price                     0\n",
       "cu_change                    0\n",
       "REGI_price                   0\n",
       "REGI_vol                     0\n",
       "REGI_change                  0\n",
       "dtype: int64"
      ]
     },
     "execution_count": 84,
     "metadata": {},
     "output_type": "execute_result"
    }
   ],
   "source": [
    "df_tesla.isnull().sum()"
   ]
  },
  {
   "cell_type": "code",
   "execution_count": 383,
   "id": "9a0edc1f",
   "metadata": {},
   "outputs": [
    {
     "data": {
      "text/plain": [
       "19.380391783190152"
      ]
     },
     "execution_count": 383,
     "metadata": {},
     "output_type": "execute_result"
    }
   ],
   "source": [
    "np.std(df_tesla['carbon_credits'])"
   ]
  },
  {
   "cell_type": "code",
   "execution_count": 379,
   "id": "905f2015",
   "metadata": {},
   "outputs": [],
   "source": [
    "y = df_tesla['tesla']\n",
    "x = df_tesla.drop(['tesla', 'date', 'Unnamed: 0'], axis = 1)"
   ]
  },
  {
   "cell_type": "code",
   "execution_count": null,
   "id": "1806d3b9",
   "metadata": {},
   "outputs": [],
   "source": []
  },
  {
   "cell_type": "code",
   "execution_count": 359,
   "id": "0eff4656",
   "metadata": {},
   "outputs": [],
   "source": [
    "from sklearn.model_selection import train_test_split"
   ]
  },
  {
   "cell_type": "code",
   "execution_count": 360,
   "id": "932f8e69",
   "metadata": {},
   "outputs": [],
   "source": [
    "x_train, x_test, y_train, y_test = train_test_split(x, y, train_size=0.2, random_state=111)"
   ]
  },
  {
   "cell_type": "code",
   "execution_count": 361,
   "id": "ad9dc736",
   "metadata": {},
   "outputs": [],
   "source": [
    "from sklearn.linear_model import LinearRegression"
   ]
  },
  {
   "cell_type": "code",
   "execution_count": 362,
   "id": "bed76a7e",
   "metadata": {},
   "outputs": [],
   "source": [
    "lr = LinearRegression()"
   ]
  },
  {
   "cell_type": "code",
   "execution_count": 363,
   "id": "084c8a1a",
   "metadata": {},
   "outputs": [
    {
     "data": {
      "text/plain": [
       "LinearRegression()"
      ]
     },
     "execution_count": 363,
     "metadata": {},
     "output_type": "execute_result"
    }
   ],
   "source": [
    "lr.fit(x_train, y_train)"
   ]
  },
  {
   "cell_type": "code",
   "execution_count": 364,
   "id": "bd62681d",
   "metadata": {},
   "outputs": [
    {
     "data": {
      "text/plain": [
       "array([  35.90586283,   92.49614031, 1044.7617014 , ...,   73.67148594,\n",
       "        717.83342161,   73.97325483])"
      ]
     },
     "execution_count": 364,
     "metadata": {},
     "output_type": "execute_result"
    }
   ],
   "source": [
    "preds = lr.predict(x_test)\n",
    "preds"
   ]
  },
  {
   "cell_type": "code",
   "execution_count": 365,
   "id": "ebf3bd94",
   "metadata": {},
   "outputs": [],
   "source": [
    "from sklearn.metrics import r2_score"
   ]
  },
  {
   "cell_type": "code",
   "execution_count": 366,
   "id": "735f91cf",
   "metadata": {},
   "outputs": [
    {
     "data": {
      "text/plain": [
       "0.9771895835783243"
      ]
     },
     "execution_count": 366,
     "metadata": {},
     "output_type": "execute_result"
    }
   ],
   "source": [
    "r2_score(y_test, preds)"
   ]
  },
  {
   "cell_type": "code",
   "execution_count": null,
   "id": "ff566a8f",
   "metadata": {},
   "outputs": [],
   "source": []
  },
  {
   "cell_type": "code",
   "execution_count": 240,
   "id": "688bd89c",
   "metadata": {},
   "outputs": [],
   "source": [
    "# 'carbon_credits', 'EVE종가', 'BYD종가'"
   ]
  },
  {
   "cell_type": "code",
   "execution_count": null,
   "id": "a1ecae74",
   "metadata": {},
   "outputs": [],
   "source": []
  },
  {
   "cell_type": "code",
   "execution_count": null,
   "id": "6c60f25e",
   "metadata": {},
   "outputs": [],
   "source": []
  },
  {
   "cell_type": "code",
   "execution_count": 43,
   "id": "db94acd4",
   "metadata": {
    "collapsed": true
   },
   "outputs": [
    {
     "data": {
      "text/plain": [
       "<AxesSubplot:xlabel='count', ylabel='희토류가격'>"
      ]
     },
     "execution_count": 43,
     "metadata": {},
     "output_type": "execute_result"
    },
    {
     "data": {
      "image/png": "[encoded data removed]",
      "text/plain": [
       "<Figure size 576x720 with 1 Axes>"
      ]
     },
     "metadata": {
      "needs_background": "light"
     },
     "output_type": "display_data"
    }
   ],
   "source": [
    "fig = plt.figure(figsize=(8, 10))\n",
    "sns.countplot(y='희토류가격', data=df_tesla)"
   ]
  },
  {
   "cell_type": "code",
   "execution_count": 44,
   "id": "d07751ae",
   "metadata": {
    "collapsed": true
   },
   "outputs": [
    {
     "data": {
      "text/plain": [
       "<AxesSubplot:xlabel='count', ylabel='co'>"
      ]
     },
     "execution_count": 44,
     "metadata": {},
     "output_type": "execute_result"
    },
    {
     "data": {
      "image/png": "[encoded data removed]",
      "text/plain": [
       "<Figure size 576x720 with 1 Axes>"
      ]
     },
     "metadata": {
      "needs_background": "light"
     },
     "output_type": "display_data"
    }
   ],
   "source": [
    "fig = plt.figure(figsize=(8, 10))\n",
    "sns.countplot(y='co', data=df_tesla)"
   ]
  },
  {
   "cell_type": "code",
   "execution_count": null,
   "id": "90148bae",
   "metadata": {},
   "outputs": [],
   "source": []
  },
  {
   "cell_type": "code",
   "execution_count": null,
   "id": "3427ac7b",
   "metadata": {},
   "outputs": [],
   "source": []
  },
  {
   "cell_type": "code",
   "execution_count": null,
   "id": "df973e40",
   "metadata": {},
   "outputs": [],
   "source": []
  },
  {
   "cell_type": "code",
   "execution_count": null,
   "id": "6d798f4f",
   "metadata": {},
   "outputs": [],
   "source": []
  },
  {
   "cell_type": "code",
   "execution_count": 45,
   "id": "631da895",
   "metadata": {},
   "outputs": [],
   "source": [
    "from sklearn.preprocessing import StandardScaler"
   ]
  },
  {
   "cell_type": "code",
   "execution_count": 46,
   "id": "dbf4d969",
   "metadata": {},
   "outputs": [],
   "source": [
    "scaler = StandardScaler()"
   ]
  },
  {
   "cell_type": "code",
   "execution_count": 47,
   "id": "37569233",
   "metadata": {},
   "outputs": [
    {
     "data": {
      "text/plain": [
       "StandardScaler()"
      ]
     },
     "execution_count": 47,
     "metadata": {},
     "output_type": "execute_result"
    }
   ],
   "source": [
    "scaler.fit(x_train)"
   ]
  },
  {
   "cell_type": "code",
   "execution_count": 49,
   "id": "5f29ac9d",
   "metadata": {},
   "outputs": [],
   "source": [
    "x_train_scaled = scaler.transform(x_train)\n",
    "x_test_scaled = scaler.transform(x_test)"
   ]
  },
  {
   "cell_type": "code",
   "execution_count": null,
   "id": "a840999a",
   "metadata": {},
   "outputs": [],
   "source": []
  },
  {
   "cell_type": "code",
   "execution_count": 50,
   "id": "cc4a9723",
   "metadata": {},
   "outputs": [],
   "source": [
    "lr = LinearRegression()"
   ]
  },
  {
   "cell_type": "code",
   "execution_count": 51,
   "id": "f58b86ef",
   "metadata": {},
   "outputs": [
    {
     "data": {
      "text/plain": [
       "LinearRegression()"
      ]
     },
     "execution_count": 51,
     "metadata": {},
     "output_type": "execute_result"
    }
   ],
   "source": [
    "lr.fit(x_train_scaled, y_train)"
   ]
  },
  {
   "cell_type": "code",
   "execution_count": 52,
   "id": "6ddf78c4",
   "metadata": {},
   "outputs": [],
   "source": [
    "lr_preds = lr.predict(x_test_scaled)"
   ]
  },
  {
   "cell_type": "code",
   "execution_count": 53,
   "id": "3944e17b",
   "metadata": {
    "scrolled": true
   },
   "outputs": [
    {
     "data": {
      "text/plain": [
       "0.9771895835760672"
      ]
     },
     "execution_count": 53,
     "metadata": {},
     "output_type": "execute_result"
    }
   ],
   "source": [
    "r2_score(y_test, lr_preds)"
   ]
  },
  {
   "cell_type": "code",
   "execution_count": null,
   "id": "c274b2d4",
   "metadata": {},
   "outputs": [],
   "source": []
  },
  {
   "cell_type": "code",
   "execution_count": 61,
   "id": "dc29c542",
   "metadata": {},
   "outputs": [
    {
     "data": {
      "text/plain": [
       "'tesla_volatility'"
      ]
     },
     "execution_count": 61,
     "metadata": {},
     "output_type": "execute_result"
    }
   ],
   "source": [
    "x_train.columns[1]"
   ]
  },
  {
   "cell_type": "code",
   "execution_count": 62,
   "id": "0df28bd4",
   "metadata": {},
   "outputs": [
    {
     "name": "stdout",
     "output_type": "stream",
     "text": [
      "tesla_거래량 6.623275197946799\n",
      "tesla_volatility 7.3114906733910825\n",
      "elec_fee 1.751613302202297\n",
      "oli_price -40.10801649188388\n",
      "oli_price_volatility -0.7718492812669986\n",
      "carbon_credits 14.771460612407884\n",
      "carbon_credits_volatility 1.800399701101768\n",
      "EVE종가 18.20245738407961\n",
      "EVE거래량 -6.743449048698354\n",
      "EVE변동률 4.173259477298621\n",
      "BYD종가 7.83254001723153\n",
      "BYD거래량 -4.943940905994609\n",
      "BYD변동률 0.5566628229650505\n",
      "PSI종가 -106.18785522127244\n",
      "PSI거래량 -1.13950136476902\n",
      "SOXX종가 -34.68979105373995\n",
      "SOXX거래량 7.5355132239130045\n",
      "SOXL종가 133.98394549553578\n",
      "SOXL거래량 -2.974620386309296\n",
      "LIT조정종가 70.67182369207617\n",
      "LIT거래량 -9.596652692388032\n",
      "SGL종가 18.6621709194838\n",
      "SGL변동률 4.3772329830962615\n",
      "li_price 45.46826190873436\n",
      "co -6.131692210358814\n",
      "co_volatility 2.3423908523084167\n",
      "희토류가격 33.94778432178947\n",
      "nasdaq 91.34320196274604\n",
      "nasdaq_거래량 3.0662579974524515\n",
      "nasdaq_volatility -0.37905375760777116\n",
      "ssec 15.110801587337315\n",
      "ssec_거래량 5.261905081779894\n",
      "ssec_volatility -4.804415849039493\n",
      "dollar 0.2645591617564653\n",
      "dollar_volatility 1.3768804472756961\n",
      "alu_price -5.178386831250984\n",
      "alu_vol -9.6137507079658\n",
      "alu_change -3.46308123476743\n",
      "cu_price -17.853620121008927\n",
      "cu_change -0.34507082683370877\n",
      "REGI_price 76.16532286701246\n",
      "REGI_vol 1.7943822347272813\n",
      "REGI_change -6.373639765654863\n"
     ]
    }
   ],
   "source": [
    "for i in range(len(lr.coef_)):\n",
    "    print(x_train.columns[i],lr.coef_[i])"
   ]
  },
  {
   "cell_type": "code",
   "execution_count": null,
   "id": "ee61afa3",
   "metadata": {},
   "outputs": [],
   "source": []
  },
  {
   "cell_type": "code",
   "execution_count": null,
   "id": "d3d7e98b",
   "metadata": {},
   "outputs": [],
   "source": []
  },
  {
   "cell_type": "code",
   "execution_count": null,
   "id": "8060334e",
   "metadata": {},
   "outputs": [],
   "source": []
  },
  {
   "cell_type": "code",
   "execution_count": null,
   "id": "05987555",
   "metadata": {},
   "outputs": [],
   "source": []
  },
  {
   "cell_type": "code",
   "execution_count": null,
   "id": "175fde68",
   "metadata": {},
   "outputs": [],
   "source": []
  }
 ],
 "metadata": {
  "kernelspec": {
   "display_name": "Python 3 (ipykernel)",
   "language": "python",
   "name": "python3"
  },
  "language_info": {
   "codemirror_mode": {
    "name": "ipython",
    "version": 3
   },
   "file_extension": ".py",
   "mimetype": "text/x-python",
   "name": "python",
   "nbconvert_exporter": "python",
   "pygments_lexer": "ipython3",
   "version": "3.9.7"
  }
 },
 "nbformat": 4,
 "nbformat_minor": 5
}
