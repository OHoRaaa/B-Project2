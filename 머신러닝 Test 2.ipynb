{
 "cells": [
  {
   "cell_type": "code",
   "execution_count": 3,
   "id": "d0349228",
   "metadata": {},
   "outputs": [],
   "source": [
    "import pandas as pd\n",
    "import numpy as np"
   ]
  },
  {
   "cell_type": "code",
   "execution_count": 17,
   "id": "6c0edc37",
   "metadata": {},
   "outputs": [],
   "source": [
    "from sklearn.linear_model import LinearRegression\n",
    "from sklearn.linear_model import Ridge\n",
    "from sklearn.linear_model import Lasso\n",
    "from sklearn.linear_model import ElasticNet\n",
    "\n",
    "from sklearn.preprocessing import StandardScaler"
   ]
  },
  {
   "cell_type": "code",
   "execution_count": 4,
   "id": "a367513a",
   "metadata": {},
   "outputs": [
    {
     "data": {
      "text/html": [
       "<div>\n",
       "<style scoped>\n",
       "    .dataframe tbody tr th:only-of-type {\n",
       "        vertical-align: middle;\n",
       "    }\n",
       "\n",
       "    .dataframe tbody tr th {\n",
       "        vertical-align: top;\n",
       "    }\n",
       "\n",
       "    .dataframe thead th {\n",
       "        text-align: right;\n",
       "    }\n",
       "</style>\n",
       "<table border=\"1\" class=\"dataframe\">\n",
       "  <thead>\n",
       "    <tr style=\"text-align: right;\">\n",
       "      <th></th>\n",
       "      <th>date</th>\n",
       "      <th>tesla</th>\n",
       "      <th>tesla_거래량</th>\n",
       "      <th>tesla_volatility</th>\n",
       "      <th>elec_fee</th>\n",
       "      <th>oil_price</th>\n",
       "      <th>oil_price_volatility</th>\n",
       "      <th>carbon_credits</th>\n",
       "      <th>carbon_credits_volatility</th>\n",
       "      <th>EVE종가</th>\n",
       "      <th>...</th>\n",
       "      <th>매출원가</th>\n",
       "      <th>매출총이익</th>\n",
       "      <th>영업이익</th>\n",
       "      <th>순이익</th>\n",
       "      <th>자산총계</th>\n",
       "      <th>매출총이익률</th>\n",
       "      <th>영업이익률</th>\n",
       "      <th>주당순이익EPS(달러)</th>\n",
       "      <th>주가수익배수PER(배)</th>\n",
       "      <th>총자산이익률ROA(%)</th>\n",
       "    </tr>\n",
       "  </thead>\n",
       "  <tbody>\n",
       "    <tr>\n",
       "      <th>0</th>\n",
       "      <td>2015-01-02</td>\n",
       "      <td>43.86</td>\n",
       "      <td>23820.0</td>\n",
       "      <td>-1.39</td>\n",
       "      <td>6.67</td>\n",
       "      <td>52.69</td>\n",
       "      <td>-3.44</td>\n",
       "      <td>7.01</td>\n",
       "      <td>-3.31</td>\n",
       "      <td>NaN</td>\n",
       "      <td>...</td>\n",
       "      <td>NaN</td>\n",
       "      <td>NaN</td>\n",
       "      <td>NaN</td>\n",
       "      <td>NaN</td>\n",
       "      <td>NaN</td>\n",
       "      <td>NaN</td>\n",
       "      <td>NaN</td>\n",
       "      <td>NaN</td>\n",
       "      <td>NaN</td>\n",
       "      <td>NaN</td>\n",
       "    </tr>\n",
       "    <tr>\n",
       "      <th>1</th>\n",
       "      <td>2015-01-05</td>\n",
       "      <td>42.02</td>\n",
       "      <td>26840.0</td>\n",
       "      <td>-4.20</td>\n",
       "      <td>6.67</td>\n",
       "      <td>50.04</td>\n",
       "      <td>-5.03</td>\n",
       "      <td>6.90</td>\n",
       "      <td>-1.57</td>\n",
       "      <td>13.38</td>\n",
       "      <td>...</td>\n",
       "      <td>NaN</td>\n",
       "      <td>NaN</td>\n",
       "      <td>NaN</td>\n",
       "      <td>NaN</td>\n",
       "      <td>NaN</td>\n",
       "      <td>NaN</td>\n",
       "      <td>NaN</td>\n",
       "      <td>NaN</td>\n",
       "      <td>NaN</td>\n",
       "      <td>NaN</td>\n",
       "    </tr>\n",
       "    <tr>\n",
       "      <th>2</th>\n",
       "      <td>2015-01-06</td>\n",
       "      <td>42.26</td>\n",
       "      <td>31310.0</td>\n",
       "      <td>0.57</td>\n",
       "      <td>6.67</td>\n",
       "      <td>47.93</td>\n",
       "      <td>-4.22</td>\n",
       "      <td>6.77</td>\n",
       "      <td>-1.88</td>\n",
       "      <td>13.89</td>\n",
       "      <td>...</td>\n",
       "      <td>NaN</td>\n",
       "      <td>NaN</td>\n",
       "      <td>NaN</td>\n",
       "      <td>NaN</td>\n",
       "      <td>NaN</td>\n",
       "      <td>NaN</td>\n",
       "      <td>NaN</td>\n",
       "      <td>NaN</td>\n",
       "      <td>NaN</td>\n",
       "      <td>NaN</td>\n",
       "    </tr>\n",
       "    <tr>\n",
       "      <th>3</th>\n",
       "      <td>2015-01-07</td>\n",
       "      <td>42.19</td>\n",
       "      <td>14840.0</td>\n",
       "      <td>-0.17</td>\n",
       "      <td>6.67</td>\n",
       "      <td>48.65</td>\n",
       "      <td>1.50</td>\n",
       "      <td>6.78</td>\n",
       "      <td>0.15</td>\n",
       "      <td>13.75</td>\n",
       "      <td>...</td>\n",
       "      <td>NaN</td>\n",
       "      <td>NaN</td>\n",
       "      <td>NaN</td>\n",
       "      <td>NaN</td>\n",
       "      <td>NaN</td>\n",
       "      <td>NaN</td>\n",
       "      <td>NaN</td>\n",
       "      <td>NaN</td>\n",
       "      <td>NaN</td>\n",
       "      <td>NaN</td>\n",
       "    </tr>\n",
       "    <tr>\n",
       "      <th>4</th>\n",
       "      <td>2015-01-08</td>\n",
       "      <td>42.12</td>\n",
       "      <td>17210.0</td>\n",
       "      <td>-0.17</td>\n",
       "      <td>6.67</td>\n",
       "      <td>48.79</td>\n",
       "      <td>0.29</td>\n",
       "      <td>6.81</td>\n",
       "      <td>0.44</td>\n",
       "      <td>13.80</td>\n",
       "      <td>...</td>\n",
       "      <td>NaN</td>\n",
       "      <td>NaN</td>\n",
       "      <td>NaN</td>\n",
       "      <td>NaN</td>\n",
       "      <td>NaN</td>\n",
       "      <td>NaN</td>\n",
       "      <td>NaN</td>\n",
       "      <td>NaN</td>\n",
       "      <td>NaN</td>\n",
       "      <td>NaN</td>\n",
       "    </tr>\n",
       "    <tr>\n",
       "      <th>...</th>\n",
       "      <td>...</td>\n",
       "      <td>...</td>\n",
       "      <td>...</td>\n",
       "      <td>...</td>\n",
       "      <td>...</td>\n",
       "      <td>...</td>\n",
       "      <td>...</td>\n",
       "      <td>...</td>\n",
       "      <td>...</td>\n",
       "      <td>...</td>\n",
       "      <td>...</td>\n",
       "      <td>...</td>\n",
       "      <td>...</td>\n",
       "      <td>...</td>\n",
       "      <td>...</td>\n",
       "      <td>...</td>\n",
       "      <td>...</td>\n",
       "      <td>...</td>\n",
       "      <td>...</td>\n",
       "      <td>...</td>\n",
       "      <td>...</td>\n",
       "    </tr>\n",
       "    <tr>\n",
       "      <th>1822</th>\n",
       "      <td>2022-02-28</td>\n",
       "      <td>870.43</td>\n",
       "      <td>32770.0</td>\n",
       "      <td>7.48</td>\n",
       "      <td>7.16</td>\n",
       "      <td>95.72</td>\n",
       "      <td>4.51</td>\n",
       "      <td>82.65</td>\n",
       "      <td>-5.83</td>\n",
       "      <td>89.50</td>\n",
       "      <td>...</td>\n",
       "      <td>40217.0</td>\n",
       "      <td>13606.0</td>\n",
       "      <td>6523.0</td>\n",
       "      <td>5519.0</td>\n",
       "      <td>62131.0</td>\n",
       "      <td>25.279156</td>\n",
       "      <td>12.119354</td>\n",
       "      <td>4.9</td>\n",
       "      <td>192.3</td>\n",
       "      <td>9.7</td>\n",
       "    </tr>\n",
       "    <tr>\n",
       "      <th>1823</th>\n",
       "      <td>2022-03-01</td>\n",
       "      <td>864.37</td>\n",
       "      <td>24720.0</td>\n",
       "      <td>-0.70</td>\n",
       "      <td>7.16</td>\n",
       "      <td>103.41</td>\n",
       "      <td>8.03</td>\n",
       "      <td>69.74</td>\n",
       "      <td>-15.62</td>\n",
       "      <td>86.90</td>\n",
       "      <td>...</td>\n",
       "      <td>40217.0</td>\n",
       "      <td>13606.0</td>\n",
       "      <td>6523.0</td>\n",
       "      <td>5519.0</td>\n",
       "      <td>62131.0</td>\n",
       "      <td>25.279156</td>\n",
       "      <td>12.119354</td>\n",
       "      <td>4.9</td>\n",
       "      <td>192.3</td>\n",
       "      <td>9.7</td>\n",
       "    </tr>\n",
       "    <tr>\n",
       "      <th>1824</th>\n",
       "      <td>2022-03-02</td>\n",
       "      <td>879.89</td>\n",
       "      <td>24650.0</td>\n",
       "      <td>1.80</td>\n",
       "      <td>7.16</td>\n",
       "      <td>110.60</td>\n",
       "      <td>6.95</td>\n",
       "      <td>67.72</td>\n",
       "      <td>-2.90</td>\n",
       "      <td>84.23</td>\n",
       "      <td>...</td>\n",
       "      <td>40217.0</td>\n",
       "      <td>13606.0</td>\n",
       "      <td>6523.0</td>\n",
       "      <td>5519.0</td>\n",
       "      <td>62131.0</td>\n",
       "      <td>25.279156</td>\n",
       "      <td>12.119354</td>\n",
       "      <td>4.9</td>\n",
       "      <td>192.3</td>\n",
       "      <td>9.7</td>\n",
       "    </tr>\n",
       "    <tr>\n",
       "      <th>1825</th>\n",
       "      <td>2022-03-03</td>\n",
       "      <td>839.29</td>\n",
       "      <td>20260.0</td>\n",
       "      <td>-4.61</td>\n",
       "      <td>7.16</td>\n",
       "      <td>107.67</td>\n",
       "      <td>-2.65</td>\n",
       "      <td>67.01</td>\n",
       "      <td>-1.05</td>\n",
       "      <td>79.51</td>\n",
       "      <td>...</td>\n",
       "      <td>40217.0</td>\n",
       "      <td>13606.0</td>\n",
       "      <td>6523.0</td>\n",
       "      <td>5519.0</td>\n",
       "      <td>62131.0</td>\n",
       "      <td>25.279156</td>\n",
       "      <td>12.119354</td>\n",
       "      <td>4.9</td>\n",
       "      <td>192.3</td>\n",
       "      <td>9.7</td>\n",
       "    </tr>\n",
       "    <tr>\n",
       "      <th>1826</th>\n",
       "      <td>2022-03-04</td>\n",
       "      <td>838.29</td>\n",
       "      <td>22390.0</td>\n",
       "      <td>-0.12</td>\n",
       "      <td>7.16</td>\n",
       "      <td>115.68</td>\n",
       "      <td>7.44</td>\n",
       "      <td>65.80</td>\n",
       "      <td>-1.81</td>\n",
       "      <td>78.15</td>\n",
       "      <td>...</td>\n",
       "      <td>40217.0</td>\n",
       "      <td>13606.0</td>\n",
       "      <td>6523.0</td>\n",
       "      <td>5519.0</td>\n",
       "      <td>62131.0</td>\n",
       "      <td>25.279156</td>\n",
       "      <td>12.119354</td>\n",
       "      <td>4.9</td>\n",
       "      <td>192.3</td>\n",
       "      <td>9.7</td>\n",
       "    </tr>\n",
       "  </tbody>\n",
       "</table>\n",
       "<p>1827 rows × 78 columns</p>\n",
       "</div>"
      ],
      "text/plain": [
       "            date   tesla  tesla_거래량  tesla_volatility  elec_fee  oil_price  \\\n",
       "0     2015-01-02   43.86    23820.0             -1.39      6.67      52.69   \n",
       "1     2015-01-05   42.02    26840.0             -4.20      6.67      50.04   \n",
       "2     2015-01-06   42.26    31310.0              0.57      6.67      47.93   \n",
       "3     2015-01-07   42.19    14840.0             -0.17      6.67      48.65   \n",
       "4     2015-01-08   42.12    17210.0             -0.17      6.67      48.79   \n",
       "...          ...     ...        ...               ...       ...        ...   \n",
       "1822  2022-02-28  870.43    32770.0              7.48      7.16      95.72   \n",
       "1823  2022-03-01  864.37    24720.0             -0.70      7.16     103.41   \n",
       "1824  2022-03-02  879.89    24650.0              1.80      7.16     110.60   \n",
       "1825  2022-03-03  839.29    20260.0             -4.61      7.16     107.67   \n",
       "1826  2022-03-04  838.29    22390.0             -0.12      7.16     115.68   \n",
       "\n",
       "      oil_price_volatility  carbon_credits  carbon_credits_volatility  EVE종가  \\\n",
       "0                    -3.44            7.01                      -3.31    NaN   \n",
       "1                    -5.03            6.90                      -1.57  13.38   \n",
       "2                    -4.22            6.77                      -1.88  13.89   \n",
       "3                     1.50            6.78                       0.15  13.75   \n",
       "4                     0.29            6.81                       0.44  13.80   \n",
       "...                    ...             ...                        ...    ...   \n",
       "1822                  4.51           82.65                      -5.83  89.50   \n",
       "1823                  8.03           69.74                     -15.62  86.90   \n",
       "1824                  6.95           67.72                      -2.90  84.23   \n",
       "1825                 -2.65           67.01                      -1.05  79.51   \n",
       "1826                  7.44           65.80                      -1.81  78.15   \n",
       "\n",
       "      ...     매출원가    매출총이익    영업이익     순이익     자산총계     매출총이익률      영업이익률  \\\n",
       "0     ...      NaN      NaN     NaN     NaN      NaN        NaN        NaN   \n",
       "1     ...      NaN      NaN     NaN     NaN      NaN        NaN        NaN   \n",
       "2     ...      NaN      NaN     NaN     NaN      NaN        NaN        NaN   \n",
       "3     ...      NaN      NaN     NaN     NaN      NaN        NaN        NaN   \n",
       "4     ...      NaN      NaN     NaN     NaN      NaN        NaN        NaN   \n",
       "...   ...      ...      ...     ...     ...      ...        ...        ...   \n",
       "1822  ...  40217.0  13606.0  6523.0  5519.0  62131.0  25.279156  12.119354   \n",
       "1823  ...  40217.0  13606.0  6523.0  5519.0  62131.0  25.279156  12.119354   \n",
       "1824  ...  40217.0  13606.0  6523.0  5519.0  62131.0  25.279156  12.119354   \n",
       "1825  ...  40217.0  13606.0  6523.0  5519.0  62131.0  25.279156  12.119354   \n",
       "1826  ...  40217.0  13606.0  6523.0  5519.0  62131.0  25.279156  12.119354   \n",
       "\n",
       "      주당순이익EPS(달러)  주가수익배수PER(배)  총자산이익률ROA(%)  \n",
       "0              NaN           NaN           NaN  \n",
       "1              NaN           NaN           NaN  \n",
       "2              NaN           NaN           NaN  \n",
       "3              NaN           NaN           NaN  \n",
       "4              NaN           NaN           NaN  \n",
       "...            ...           ...           ...  \n",
       "1822           4.9         192.3           9.7  \n",
       "1823           4.9         192.3           9.7  \n",
       "1824           4.9         192.3           9.7  \n",
       "1825           4.9         192.3           9.7  \n",
       "1826           4.9         192.3           9.7  \n",
       "\n",
       "[1827 rows x 78 columns]"
      ]
     },
     "execution_count": 4,
     "metadata": {},
     "output_type": "execute_result"
    }
   ],
   "source": [
    "df_f = pd.read_csv('./Data/테슬라 총합 재무제표.csv', index_col=0)\n",
    "df_f"
   ]
  },
  {
   "cell_type": "code",
   "execution_count": 5,
   "id": "389fe464",
   "metadata": {},
   "outputs": [],
   "source": [
    "df_ = df_f.iloc[1027:]"
   ]
  },
  {
   "cell_type": "code",
   "execution_count": 6,
   "id": "95fc0d42",
   "metadata": {},
   "outputs": [],
   "source": [
    "df_ = df_.interpolate()"
   ]
  },
  {
   "cell_type": "code",
   "execution_count": 7,
   "id": "8543c1bf",
   "metadata": {},
   "outputs": [],
   "source": [
    "df_.tesla = df_.tesla.shift(-3)\n",
    "df_.dropna(inplace=True)"
   ]
  },
  {
   "cell_type": "code",
   "execution_count": 8,
   "id": "95f6342b",
   "metadata": {
    "scrolled": true
   },
   "outputs": [
    {
     "data": {
      "text/html": [
       "<div>\n",
       "<style scoped>\n",
       "    .dataframe tbody tr th:only-of-type {\n",
       "        vertical-align: middle;\n",
       "    }\n",
       "\n",
       "    .dataframe tbody tr th {\n",
       "        vertical-align: top;\n",
       "    }\n",
       "\n",
       "    .dataframe thead th {\n",
       "        text-align: right;\n",
       "    }\n",
       "</style>\n",
       "<table border=\"1\" class=\"dataframe\">\n",
       "  <thead>\n",
       "    <tr style=\"text-align: right;\">\n",
       "      <th></th>\n",
       "      <th>date</th>\n",
       "      <th>tesla</th>\n",
       "      <th>tesla_거래량</th>\n",
       "      <th>tesla_volatility</th>\n",
       "      <th>elec_fee</th>\n",
       "      <th>oil_price</th>\n",
       "      <th>oil_price_volatility</th>\n",
       "      <th>carbon_credits</th>\n",
       "      <th>carbon_credits_volatility</th>\n",
       "      <th>EVE종가</th>\n",
       "      <th>...</th>\n",
       "      <th>매출원가</th>\n",
       "      <th>매출총이익</th>\n",
       "      <th>영업이익</th>\n",
       "      <th>순이익</th>\n",
       "      <th>자산총계</th>\n",
       "      <th>매출총이익률</th>\n",
       "      <th>영업이익률</th>\n",
       "      <th>주당순이익EPS(달러)</th>\n",
       "      <th>주가수익배수PER(배)</th>\n",
       "      <th>총자산이익률ROA(%)</th>\n",
       "    </tr>\n",
       "  </thead>\n",
       "  <tbody>\n",
       "    <tr>\n",
       "      <th>1027</th>\n",
       "      <td>2019-01-02</td>\n",
       "      <td>66.99</td>\n",
       "      <td>58290.0</td>\n",
       "      <td>-6.82</td>\n",
       "      <td>6.58</td>\n",
       "      <td>46.54</td>\n",
       "      <td>1.42</td>\n",
       "      <td>26.57</td>\n",
       "      <td>1.03</td>\n",
       "      <td>8.37</td>\n",
       "      <td>...</td>\n",
       "      <td>17441.711111</td>\n",
       "      <td>4044.444444</td>\n",
       "      <td>-386.333333</td>\n",
       "      <td>-975.844444</td>\n",
       "      <td>29721.622222</td>\n",
       "      <td>18.824013</td>\n",
       "      <td>-1.798541</td>\n",
       "      <td>-1.14</td>\n",
       "      <td>-58.367778</td>\n",
       "      <td>-3.397778</td>\n",
       "    </tr>\n",
       "    <tr>\n",
       "      <th>1028</th>\n",
       "      <td>2019-01-03</td>\n",
       "      <td>67.07</td>\n",
       "      <td>34830.0</td>\n",
       "      <td>-3.14</td>\n",
       "      <td>6.58</td>\n",
       "      <td>47.09</td>\n",
       "      <td>1.18</td>\n",
       "      <td>24.52</td>\n",
       "      <td>-7.72</td>\n",
       "      <td>8.44</td>\n",
       "      <td>...</td>\n",
       "      <td>17453.066667</td>\n",
       "      <td>4045.666667</td>\n",
       "      <td>-385.500000</td>\n",
       "      <td>-975.766667</td>\n",
       "      <td>29712.433333</td>\n",
       "      <td>18.818938</td>\n",
       "      <td>-1.793846</td>\n",
       "      <td>-1.14</td>\n",
       "      <td>-58.271667</td>\n",
       "      <td>-3.396667</td>\n",
       "    </tr>\n",
       "    <tr>\n",
       "      <th>1029</th>\n",
       "      <td>2019-01-04</td>\n",
       "      <td>67.71</td>\n",
       "      <td>36970.0</td>\n",
       "      <td>5.78</td>\n",
       "      <td>6.58</td>\n",
       "      <td>47.96</td>\n",
       "      <td>1.85</td>\n",
       "      <td>24.90</td>\n",
       "      <td>1.55</td>\n",
       "      <td>8.38</td>\n",
       "      <td>...</td>\n",
       "      <td>17464.422222</td>\n",
       "      <td>4046.888889</td>\n",
       "      <td>-384.666667</td>\n",
       "      <td>-975.688889</td>\n",
       "      <td>29703.244444</td>\n",
       "      <td>18.813862</td>\n",
       "      <td>-1.789151</td>\n",
       "      <td>-1.14</td>\n",
       "      <td>-58.175556</td>\n",
       "      <td>-3.395556</td>\n",
       "    </tr>\n",
       "    <tr>\n",
       "      <th>1030</th>\n",
       "      <td>2019-01-07</td>\n",
       "      <td>68.99</td>\n",
       "      <td>37760.0</td>\n",
       "      <td>5.43</td>\n",
       "      <td>6.58</td>\n",
       "      <td>48.52</td>\n",
       "      <td>1.17</td>\n",
       "      <td>23.44</td>\n",
       "      <td>-5.86</td>\n",
       "      <td>8.50</td>\n",
       "      <td>...</td>\n",
       "      <td>17498.488889</td>\n",
       "      <td>4050.555556</td>\n",
       "      <td>-382.166667</td>\n",
       "      <td>-975.455556</td>\n",
       "      <td>29675.677778</td>\n",
       "      <td>18.798636</td>\n",
       "      <td>-1.775066</td>\n",
       "      <td>-1.14</td>\n",
       "      <td>-57.887222</td>\n",
       "      <td>-3.392222</td>\n",
       "    </tr>\n",
       "    <tr>\n",
       "      <th>1031</th>\n",
       "      <td>2019-01-08</td>\n",
       "      <td>69.45</td>\n",
       "      <td>35040.0</td>\n",
       "      <td>0.12</td>\n",
       "      <td>6.58</td>\n",
       "      <td>49.78</td>\n",
       "      <td>2.60</td>\n",
       "      <td>24.00</td>\n",
       "      <td>2.39</td>\n",
       "      <td>9.23</td>\n",
       "      <td>...</td>\n",
       "      <td>17509.844444</td>\n",
       "      <td>4051.777778</td>\n",
       "      <td>-381.333333</td>\n",
       "      <td>-975.377778</td>\n",
       "      <td>29666.488889</td>\n",
       "      <td>18.793561</td>\n",
       "      <td>-1.770371</td>\n",
       "      <td>-1.14</td>\n",
       "      <td>-57.791111</td>\n",
       "      <td>-3.391111</td>\n",
       "    </tr>\n",
       "    <tr>\n",
       "      <th>...</th>\n",
       "      <td>...</td>\n",
       "      <td>...</td>\n",
       "      <td>...</td>\n",
       "      <td>...</td>\n",
       "      <td>...</td>\n",
       "      <td>...</td>\n",
       "      <td>...</td>\n",
       "      <td>...</td>\n",
       "      <td>...</td>\n",
       "      <td>...</td>\n",
       "      <td>...</td>\n",
       "      <td>...</td>\n",
       "      <td>...</td>\n",
       "      <td>...</td>\n",
       "      <td>...</td>\n",
       "      <td>...</td>\n",
       "      <td>...</td>\n",
       "      <td>...</td>\n",
       "      <td>...</td>\n",
       "      <td>...</td>\n",
       "      <td>...</td>\n",
       "    </tr>\n",
       "    <tr>\n",
       "      <th>1819</th>\n",
       "      <td>2022-02-23</td>\n",
       "      <td>870.43</td>\n",
       "      <td>31070.0</td>\n",
       "      <td>-7.00</td>\n",
       "      <td>7.16</td>\n",
       "      <td>92.10</td>\n",
       "      <td>-0.27</td>\n",
       "      <td>94.74</td>\n",
       "      <td>5.69</td>\n",
       "      <td>89.08</td>\n",
       "      <td>...</td>\n",
       "      <td>40217.000000</td>\n",
       "      <td>13606.000000</td>\n",
       "      <td>6523.000000</td>\n",
       "      <td>5519.000000</td>\n",
       "      <td>62131.000000</td>\n",
       "      <td>25.279156</td>\n",
       "      <td>12.119354</td>\n",
       "      <td>4.90</td>\n",
       "      <td>192.300000</td>\n",
       "      <td>9.700000</td>\n",
       "    </tr>\n",
       "    <tr>\n",
       "      <th>1820</th>\n",
       "      <td>2022-02-24</td>\n",
       "      <td>864.37</td>\n",
       "      <td>44760.0</td>\n",
       "      <td>4.81</td>\n",
       "      <td>7.16</td>\n",
       "      <td>92.81</td>\n",
       "      <td>0.77</td>\n",
       "      <td>87.21</td>\n",
       "      <td>-7.95</td>\n",
       "      <td>85.99</td>\n",
       "      <td>...</td>\n",
       "      <td>40217.000000</td>\n",
       "      <td>13606.000000</td>\n",
       "      <td>6523.000000</td>\n",
       "      <td>5519.000000</td>\n",
       "      <td>62131.000000</td>\n",
       "      <td>25.279156</td>\n",
       "      <td>12.119354</td>\n",
       "      <td>4.90</td>\n",
       "      <td>192.300000</td>\n",
       "      <td>9.700000</td>\n",
       "    </tr>\n",
       "    <tr>\n",
       "      <th>1821</th>\n",
       "      <td>2022-02-25</td>\n",
       "      <td>879.89</td>\n",
       "      <td>25360.0</td>\n",
       "      <td>1.14</td>\n",
       "      <td>7.16</td>\n",
       "      <td>91.59</td>\n",
       "      <td>-1.31</td>\n",
       "      <td>87.77</td>\n",
       "      <td>0.64</td>\n",
       "      <td>89.35</td>\n",
       "      <td>...</td>\n",
       "      <td>40217.000000</td>\n",
       "      <td>13606.000000</td>\n",
       "      <td>6523.000000</td>\n",
       "      <td>5519.000000</td>\n",
       "      <td>62131.000000</td>\n",
       "      <td>25.279156</td>\n",
       "      <td>12.119354</td>\n",
       "      <td>4.90</td>\n",
       "      <td>192.300000</td>\n",
       "      <td>9.700000</td>\n",
       "    </tr>\n",
       "    <tr>\n",
       "      <th>1822</th>\n",
       "      <td>2022-02-28</td>\n",
       "      <td>839.29</td>\n",
       "      <td>32770.0</td>\n",
       "      <td>7.48</td>\n",
       "      <td>7.16</td>\n",
       "      <td>95.72</td>\n",
       "      <td>4.51</td>\n",
       "      <td>82.65</td>\n",
       "      <td>-5.83</td>\n",
       "      <td>89.50</td>\n",
       "      <td>...</td>\n",
       "      <td>40217.000000</td>\n",
       "      <td>13606.000000</td>\n",
       "      <td>6523.000000</td>\n",
       "      <td>5519.000000</td>\n",
       "      <td>62131.000000</td>\n",
       "      <td>25.279156</td>\n",
       "      <td>12.119354</td>\n",
       "      <td>4.90</td>\n",
       "      <td>192.300000</td>\n",
       "      <td>9.700000</td>\n",
       "    </tr>\n",
       "    <tr>\n",
       "      <th>1823</th>\n",
       "      <td>2022-03-01</td>\n",
       "      <td>838.29</td>\n",
       "      <td>24720.0</td>\n",
       "      <td>-0.70</td>\n",
       "      <td>7.16</td>\n",
       "      <td>103.41</td>\n",
       "      <td>8.03</td>\n",
       "      <td>69.74</td>\n",
       "      <td>-15.62</td>\n",
       "      <td>86.90</td>\n",
       "      <td>...</td>\n",
       "      <td>40217.000000</td>\n",
       "      <td>13606.000000</td>\n",
       "      <td>6523.000000</td>\n",
       "      <td>5519.000000</td>\n",
       "      <td>62131.000000</td>\n",
       "      <td>25.279156</td>\n",
       "      <td>12.119354</td>\n",
       "      <td>4.90</td>\n",
       "      <td>192.300000</td>\n",
       "      <td>9.700000</td>\n",
       "    </tr>\n",
       "  </tbody>\n",
       "</table>\n",
       "<p>797 rows × 78 columns</p>\n",
       "</div>"
      ],
      "text/plain": [
       "            date   tesla  tesla_거래량  tesla_volatility  elec_fee  oil_price  \\\n",
       "1027  2019-01-02   66.99    58290.0             -6.82      6.58      46.54   \n",
       "1028  2019-01-03   67.07    34830.0             -3.14      6.58      47.09   \n",
       "1029  2019-01-04   67.71    36970.0              5.78      6.58      47.96   \n",
       "1030  2019-01-07   68.99    37760.0              5.43      6.58      48.52   \n",
       "1031  2019-01-08   69.45    35040.0              0.12      6.58      49.78   \n",
       "...          ...     ...        ...               ...       ...        ...   \n",
       "1819  2022-02-23  870.43    31070.0             -7.00      7.16      92.10   \n",
       "1820  2022-02-24  864.37    44760.0              4.81      7.16      92.81   \n",
       "1821  2022-02-25  879.89    25360.0              1.14      7.16      91.59   \n",
       "1822  2022-02-28  839.29    32770.0              7.48      7.16      95.72   \n",
       "1823  2022-03-01  838.29    24720.0             -0.70      7.16     103.41   \n",
       "\n",
       "      oil_price_volatility  carbon_credits  carbon_credits_volatility  EVE종가  \\\n",
       "1027                  1.42           26.57                       1.03   8.37   \n",
       "1028                  1.18           24.52                      -7.72   8.44   \n",
       "1029                  1.85           24.90                       1.55   8.38   \n",
       "1030                  1.17           23.44                      -5.86   8.50   \n",
       "1031                  2.60           24.00                       2.39   9.23   \n",
       "...                    ...             ...                        ...    ...   \n",
       "1819                 -0.27           94.74                       5.69  89.08   \n",
       "1820                  0.77           87.21                      -7.95  85.99   \n",
       "1821                 -1.31           87.77                       0.64  89.35   \n",
       "1822                  4.51           82.65                      -5.83  89.50   \n",
       "1823                  8.03           69.74                     -15.62  86.90   \n",
       "\n",
       "      ...          매출원가         매출총이익         영업이익          순이익          자산총계  \\\n",
       "1027  ...  17441.711111   4044.444444  -386.333333  -975.844444  29721.622222   \n",
       "1028  ...  17453.066667   4045.666667  -385.500000  -975.766667  29712.433333   \n",
       "1029  ...  17464.422222   4046.888889  -384.666667  -975.688889  29703.244444   \n",
       "1030  ...  17498.488889   4050.555556  -382.166667  -975.455556  29675.677778   \n",
       "1031  ...  17509.844444   4051.777778  -381.333333  -975.377778  29666.488889   \n",
       "...   ...           ...           ...          ...          ...           ...   \n",
       "1819  ...  40217.000000  13606.000000  6523.000000  5519.000000  62131.000000   \n",
       "1820  ...  40217.000000  13606.000000  6523.000000  5519.000000  62131.000000   \n",
       "1821  ...  40217.000000  13606.000000  6523.000000  5519.000000  62131.000000   \n",
       "1822  ...  40217.000000  13606.000000  6523.000000  5519.000000  62131.000000   \n",
       "1823  ...  40217.000000  13606.000000  6523.000000  5519.000000  62131.000000   \n",
       "\n",
       "         매출총이익률      영업이익률  주당순이익EPS(달러)  주가수익배수PER(배)  총자산이익률ROA(%)  \n",
       "1027  18.824013  -1.798541         -1.14    -58.367778     -3.397778  \n",
       "1028  18.818938  -1.793846         -1.14    -58.271667     -3.396667  \n",
       "1029  18.813862  -1.789151         -1.14    -58.175556     -3.395556  \n",
       "1030  18.798636  -1.775066         -1.14    -57.887222     -3.392222  \n",
       "1031  18.793561  -1.770371         -1.14    -57.791111     -3.391111  \n",
       "...         ...        ...           ...           ...           ...  \n",
       "1819  25.279156  12.119354          4.90    192.300000      9.700000  \n",
       "1820  25.279156  12.119354          4.90    192.300000      9.700000  \n",
       "1821  25.279156  12.119354          4.90    192.300000      9.700000  \n",
       "1822  25.279156  12.119354          4.90    192.300000      9.700000  \n",
       "1823  25.279156  12.119354          4.90    192.300000      9.700000  \n",
       "\n",
       "[797 rows x 78 columns]"
      ]
     },
     "execution_count": 8,
     "metadata": {},
     "output_type": "execute_result"
    }
   ],
   "source": [
    "df_"
   ]
  },
  {
   "cell_type": "code",
   "execution_count": 9,
   "id": "238f9f1a",
   "metadata": {},
   "outputs": [
    {
     "data": {
      "text/plain": [
       "Index(['date', 'tesla', 'tesla_거래량', 'tesla_volatility', 'elec_fee',\n",
       "       'oil_price', 'oil_price_volatility', 'carbon_credits',\n",
       "       'carbon_credits_volatility', 'EVE종가', 'EVE거래량', 'EVE변동률', 'BYD종가',\n",
       "       'BYD거래량', 'BYD변동률', 'DRIV종가', 'DRIV거래량', 'ACDC종가', 'ACDC거래량', 'kars',\n",
       "       'kars_거래량', 'kars_volatility', 'batt', 'batt_거래량', 'batt_volatility',\n",
       "       'PSI종가', 'PSI거래량', 'SOXX종가', 'SOXX거래량', 'SOXL종가', 'SOXL거래량', 'LIT조정종가',\n",
       "       'LIT거래량', 'SGL종가', 'SGL변동률', 'li_price', 'co', 'co_volatility', '희토류가격',\n",
       "       'nasdaq', 'nasdaq_거래량', 'nasdaq_volatility', 'ssec', 'ssec_거래량',\n",
       "       'ssec_volatility', 'dollar', 'dollar_volatility', 'alu_price',\n",
       "       'alu_vol', 'alu_change', 'cu_price', 'cu_change', 'REGI_price',\n",
       "       'REGI_vol', 'REGI_change', 'snp_500', 'snp_500_volatility', 'kodex',\n",
       "       'kodex_거래량', 'kodex_volatility', 'tiger', 'tiger_거래량',\n",
       "       'tiger_volatility', 'tbx', 'tbx_거래량', 'tbx_volatility', '검색량', '매출액',\n",
       "       '매출원가', '매출총이익', '영업이익', '순이익', '자산총계', '매출총이익률', '영업이익률',\n",
       "       '주당순이익EPS(달러)', '주가수익배수PER(배)', '총자산이익률ROA(%)'],\n",
       "      dtype='object')"
      ]
     },
     "execution_count": 9,
     "metadata": {},
     "output_type": "execute_result"
    }
   ],
   "source": [
    "df_.columns"
   ]
  },
  {
   "cell_type": "code",
   "execution_count": 12,
   "id": "9d7c101b",
   "metadata": {},
   "outputs": [],
   "source": [
    "#### 피쳐 => 변동률\n",
    "\n",
    "y = df_['tesla']\n",
    "x = df_[['tesla_volatility', 'oil_price_volatility', 'carbon_credits_volatility',\\\n",
    "       'EVE변동률', 'BYD변동률', 'SGL변동률', 'co_volatility', 'nasdaq_volatility',\\\n",
    "       'ssec_volatility', 'dollar_volatility', 'snp_500_volatility', 'kodex_volatility',\\\n",
    "       'tiger_volatility', 'tbx_volatility']]"
   ]
  },
  {
   "cell_type": "code",
   "execution_count": 13,
   "id": "f55133b9",
   "metadata": {},
   "outputs": [],
   "source": [
    "x_train, x_test = x.iloc[:560], x.iloc[560:]\n",
    "y_train, y_test = y.iloc[:560], y.iloc[560:]"
   ]
  },
  {
   "cell_type": "code",
   "execution_count": 18,
   "id": "b0ca1f2d",
   "metadata": {},
   "outputs": [],
   "source": [
    "# 스케일링\n",
    "\n",
    "scaled = StandardScaler()\n",
    "scaled.fit(x_train)\n",
    "x_train_scaled = scaled.transform(x_train)\n",
    "x_test_scaled = scaled.transform(x_test)"
   ]
  },
  {
   "cell_type": "code",
   "execution_count": 19,
   "id": "49260d85",
   "metadata": {},
   "outputs": [
    {
     "name": "stdout",
     "output_type": "stream",
     "text": [
      "train : 0.057331901367184024\n",
      "test : -10.887701932661265\n"
     ]
    }
   ],
   "source": [
    "# LinearRegression \n",
    "\n",
    "lr = LinearRegression()\n",
    "lr.fit(x_train_scaled, y_train)\n",
    "preds_lr = lr.predict(x_test_scaled)\n",
    "print('train :', lr.score(x_train_scaled,y_train))\n",
    "print('test :', lr.score(x_test_scaled,y_test))"
   ]
  },
  {
   "cell_type": "code",
   "execution_count": 20,
   "id": "7b969d94",
   "metadata": {},
   "outputs": [
    {
     "name": "stderr",
     "output_type": "stream",
     "text": [
      "IOPub data rate exceeded.\n",
      "The notebook server will temporarily stop sending output\n",
      "to the client in order to avoid crashing it.\n",
      "To change this limit, set the config variable\n",
      "`--NotebookApp.iopub_data_rate_limit`.\n",
      "\n",
      "Current values:\n",
      "NotebookApp.iopub_data_rate_limit=1000000.0 (bytes/sec)\n",
      "NotebookApp.rate_limit_window=3.0 (secs)\n",
      "\n"
     ]
    }
   ],
   "source": [
    "# Ridge\n",
    "\n",
    "train_score = []\n",
    "test_score = []\n",
    "alpha_list = list(np.arange(0.001, 100, 0.001))\n",
    "\n",
    "for alpha in alpha_list:\n",
    "    rid = Ridge(alpha=alpha)\n",
    "    rid.fit(x_train_scaled, y_train)\n",
    "    train_score.append(rid.score(x_train_scaled, y_train))\n",
    "    test_score.append(rid.score(x_test_scaled, y_test))\n",
    "    preds_rid = rid.predict(x_test_scaled)\n",
    "print(train_score)\n",
    "print(test_score)"
   ]
  },
  {
   "cell_type": "code",
   "execution_count": 21,
   "id": "c9eb94e4",
   "metadata": {},
   "outputs": [
    {
     "name": "stdout",
     "output_type": "stream",
     "text": [
      "0.057331900046053375\n",
      "-10.88765049536829\n"
     ]
    }
   ],
   "source": [
    "rid = Ridge(alpha=0.01)\n",
    "rid.fit(x_train_scaled, y_train)\n",
    "print(rid.score(x_train_scaled, y_train))\n",
    "print(rid.score(x_test_scaled, y_test))"
   ]
  },
  {
   "cell_type": "code",
   "execution_count": 22,
   "id": "3be6305f",
   "metadata": {},
   "outputs": [
    {
     "name": "stdout",
     "output_type": "stream",
     "text": [
      "[0.05733189878780298, 0.057331643301400836, 0.057306076117695004, 0.05476434114145157, 0.0398595235629452, 0.0]\n",
      "[-10.887622831298199, -10.886911046834362, -10.879828775194113, -10.813134975973826, -10.842244260101948, -10.973167918615388]\n"
     ]
    }
   ],
   "source": [
    "# Lasso\n",
    "\n",
    "train_score = []\n",
    "test_score = []\n",
    "alpha_list = [0.001, 0.01, 0.1, 1, 10, 100]\n",
    "\n",
    "for alpha in alpha_list:\n",
    "    las = Lasso(alpha=alpha)\n",
    "    las.fit(x_train_scaled, y_train)\n",
    "    train_score.append(las.score(x_train_scaled, y_train))\n",
    "    test_score.append(las.score(x_test_scaled, y_test))\n",
    "    preds_las = las.predict(x_test_scaled)\n",
    "print(train_score)\n",
    "print(test_score)"
   ]
  },
  {
   "cell_type": "code",
   "execution_count": 23,
   "id": "c345b8da",
   "metadata": {},
   "outputs": [
    {
     "name": "stdout",
     "output_type": "stream",
     "text": [
      "0.05476434114145157\n",
      "-10.813134975973826\n"
     ]
    }
   ],
   "source": [
    "las = Lasso(alpha=1)\n",
    "las.fit(x_train_scaled, y_train)\n",
    "preds = las.predict(x_test_scaled)\n",
    "print(las.score(x_train_scaled, y_train))\n",
    "print(las.score(x_test_scaled, y_test))"
   ]
  },
  {
   "cell_type": "code",
   "execution_count": 24,
   "id": "d7fd491f",
   "metadata": {},
   "outputs": [
    {
     "name": "stdout",
     "output_type": "stream",
     "text": [
      "0.012052110532470017\n",
      "-10.95429547120707\n"
     ]
    }
   ],
   "source": [
    "# ElasticNet\n",
    "\n",
    "from sklearn.linear_model import ElasticNet\n",
    "\n",
    "el= ElasticNet(alpha=10, l1_ratio=0.3)\n",
    "el.fit(x_train_scaled, y_train)\n",
    "preds_el = el.predict(x_test_scaled)\n",
    "print(el.score(x_train_scaled, y_train))\n",
    "print(el.score(x_test_scaled, y_test))"
   ]
  },
  {
   "cell_type": "code",
   "execution_count": null,
   "id": "aef5d50b",
   "metadata": {},
   "outputs": [],
   "source": []
  },
  {
   "cell_type": "code",
   "execution_count": null,
   "id": "c31229ca",
   "metadata": {},
   "outputs": [],
   "source": []
  },
  {
   "cell_type": "code",
   "execution_count": null,
   "id": "4055203d",
   "metadata": {},
   "outputs": [],
   "source": []
  },
  {
   "cell_type": "code",
   "execution_count": null,
   "id": "4c1bc30f",
   "metadata": {},
   "outputs": [],
   "source": []
  },
  {
   "cell_type": "code",
   "execution_count": null,
   "id": "355e117a",
   "metadata": {},
   "outputs": [],
   "source": []
  },
  {
   "cell_type": "code",
   "execution_count": 26,
   "id": "8a9e0e32",
   "metadata": {},
   "outputs": [
    {
     "data": {
      "text/plain": [
       "Index(['date', 'tesla', 'tesla_거래량', 'tesla_volatility', 'elec_fee',\n",
       "       'oil_price', 'oil_price_volatility', 'carbon_credits',\n",
       "       'carbon_credits_volatility', 'EVE종가', 'EVE거래량', 'EVE변동률', 'BYD종가',\n",
       "       'BYD거래량', 'BYD변동률', 'DRIV종가', 'DRIV거래량', 'ACDC종가', 'ACDC거래량', 'kars',\n",
       "       'kars_거래량', 'kars_volatility', 'batt', 'batt_거래량', 'batt_volatility',\n",
       "       'PSI종가', 'PSI거래량', 'SOXX종가', 'SOXX거래량', 'SOXL종가', 'SOXL거래량', 'LIT조정종가',\n",
       "       'LIT거래량', 'SGL종가', 'SGL변동률', 'li_price', 'co', 'co_volatility', '희토류가격',\n",
       "       'nasdaq', 'nasdaq_거래량', 'nasdaq_volatility', 'ssec', 'ssec_거래량',\n",
       "       'ssec_volatility', 'dollar', 'dollar_volatility', 'alu_price',\n",
       "       'alu_vol', 'alu_change', 'cu_price', 'cu_change', 'REGI_price',\n",
       "       'REGI_vol', 'REGI_change', 'snp_500', 'snp_500_volatility', 'kodex',\n",
       "       'kodex_거래량', 'kodex_volatility', 'tiger', 'tiger_거래량',\n",
       "       'tiger_volatility', 'tbx', 'tbx_거래량', 'tbx_volatility', '검색량', '매출액',\n",
       "       '매출원가', '매출총이익', '영업이익', '순이익', '자산총계', '매출총이익률', '영업이익률',\n",
       "       '주당순이익EPS(달러)', '주가수익배수PER(배)', '총자산이익률ROA(%)'],\n",
       "      dtype='object')"
      ]
     },
     "execution_count": 26,
     "metadata": {},
     "output_type": "execute_result"
    }
   ],
   "source": [
    "df_.columns"
   ]
  },
  {
   "cell_type": "code",
   "execution_count": 29,
   "id": "139fa10d",
   "metadata": {},
   "outputs": [],
   "source": [
    "#### 피쳐 => 거래량\n",
    "\n",
    "y = df_['tesla']\n",
    "x = df_[['tesla_거래량', 'EVE거래량', 'BYD거래량', 'DRIV거래량', 'ACDC거래량',\\\n",
    "       'kars_거래량', 'batt_거래량', 'PSI거래량', 'SOXX거래량', 'SOXL거래량',\\\n",
    "       'LIT거래량', 'nasdaq_거래량', 'ssec_거래량', 'kodex_거래량', 'tiger_거래량',\\\n",
    "       'tbx_거래량']]"
   ]
  },
  {
   "cell_type": "code",
   "execution_count": 30,
   "id": "8d01f2d7",
   "metadata": {},
   "outputs": [],
   "source": [
    "x_train, x_test = x.iloc[:560], x.iloc[560:]\n",
    "y_train, y_test = y.iloc[:560], y.iloc[560:]"
   ]
  },
  {
   "cell_type": "code",
   "execution_count": 31,
   "id": "040d6964",
   "metadata": {},
   "outputs": [],
   "source": [
    "# 스케일링\n",
    "\n",
    "scaled = StandardScaler()\n",
    "scaled.fit(x_train)\n",
    "x_train_scaled = scaled.transform(x_train)\n",
    "x_test_scaled = scaled.transform(x_test)"
   ]
  },
  {
   "cell_type": "code",
   "execution_count": 32,
   "id": "a7b06155",
   "metadata": {},
   "outputs": [
    {
     "name": "stdout",
     "output_type": "stream",
     "text": [
      "train : 0.8642301413509004\n",
      "test : -5.440567466717699\n"
     ]
    }
   ],
   "source": [
    "# LinearRegression \n",
    "\n",
    "lr = LinearRegression()\n",
    "lr.fit(x_train_scaled, y_train)\n",
    "preds_lr = lr.predict(x_test_scaled)\n",
    "print('train :', lr.score(x_train_scaled,y_train))\n",
    "print('test :', lr.score(x_test_scaled,y_test))"
   ]
  },
  {
   "cell_type": "code",
   "execution_count": 33,
   "id": "12b7c3c8",
   "metadata": {},
   "outputs": [
    {
     "name": "stdout",
     "output_type": "stream",
     "text": [
      "0.8642301412675051\n",
      "-5.440563387625849\n"
     ]
    }
   ],
   "source": [
    "rid = Ridge(alpha=0.01)\n",
    "rid.fit(x_train_scaled, y_train)\n",
    "print(rid.score(x_train_scaled, y_train))\n",
    "print(rid.score(x_test_scaled, y_test))"
   ]
  },
  {
   "cell_type": "code",
   "execution_count": 34,
   "id": "af206c68",
   "metadata": {},
   "outputs": [
    {
     "name": "stdout",
     "output_type": "stream",
     "text": [
      "[0.8642301410353406, 0.8642301095347418, 0.8642269866230147, 0.8639143005181109, 0.8529702677611056, 0.56215389275172]\n",
      "[-5.440630698509348, -5.441255410084943, -5.446889881522552, -5.501565629517281, -6.09562472198712, -9.101177090403736]\n"
     ]
    }
   ],
   "source": [
    "# Lasso\n",
    "\n",
    "train_score = []\n",
    "test_score = []\n",
    "alpha_list = [0.001, 0.01, 0.1, 1, 10, 100]\n",
    "\n",
    "for alpha in alpha_list:\n",
    "    las = Lasso(alpha=alpha)\n",
    "    las.fit(x_train_scaled, y_train)\n",
    "    train_score.append(las.score(x_train_scaled, y_train))\n",
    "    test_score.append(las.score(x_test_scaled, y_test))\n",
    "    preds_las = las.predict(x_test_scaled)\n",
    "print(train_score)\n",
    "print(test_score)"
   ]
  },
  {
   "cell_type": "code",
   "execution_count": 35,
   "id": "9f0924b1",
   "metadata": {},
   "outputs": [
    {
     "name": "stdout",
     "output_type": "stream",
     "text": [
      "0.8639143005181109\n",
      "-5.501565629517281\n"
     ]
    }
   ],
   "source": [
    "las = Lasso(alpha=1)\n",
    "las.fit(x_train_scaled, y_train)\n",
    "preds = las.predict(x_test_scaled)\n",
    "print(las.score(x_train_scaled, y_train))\n",
    "print(las.score(x_test_scaled, y_test))"
   ]
  },
  {
   "cell_type": "code",
   "execution_count": 49,
   "id": "157901cb",
   "metadata": {},
   "outputs": [
    {
     "name": "stdout",
     "output_type": "stream",
     "text": [
      "0.8641376855832531\n",
      "-5.440624572470461\n"
     ]
    }
   ],
   "source": [
    "# ElasticNet\n",
    "\n",
    "from sklearn.linear_model import ElasticNet\n",
    "\n",
    "el= ElasticNet(alpha=0.09, l1_ratio=0.8)\n",
    "el.fit(x_train_scaled, y_train)\n",
    "preds_el = el.predict(x_test_scaled)\n",
    "print(el.score(x_train_scaled, y_train))\n",
    "print(el.score(x_test_scaled, y_test))"
   ]
  },
  {
   "cell_type": "code",
   "execution_count": null,
   "id": "0f1ac5e9",
   "metadata": {},
   "outputs": [],
   "source": []
  },
  {
   "cell_type": "code",
   "execution_count": null,
   "id": "6b64b7b4",
   "metadata": {},
   "outputs": [],
   "source": []
  },
  {
   "cell_type": "code",
   "execution_count": null,
   "id": "2e26669c",
   "metadata": {},
   "outputs": [],
   "source": []
  },
  {
   "cell_type": "code",
   "execution_count": null,
   "id": "0b9a4d9e",
   "metadata": {},
   "outputs": [],
   "source": []
  },
  {
   "cell_type": "code",
   "execution_count": 91,
   "id": "78c8bac5",
   "metadata": {},
   "outputs": [],
   "source": [
    "#### 피쳐 => 변동률 제외\n",
    "\n",
    "y = df_['tesla']\n",
    "x = df_.drop(['date','tesla', 'tesla_volatility', 'oil_price_volatility', 'carbon_credits_volatility',\\\n",
    "       'EVE변동률', 'BYD변동률', 'SGL변동률', 'co_volatility', 'nasdaq_volatility',\\\n",
    "       'ssec_volatility', 'dollar_volatility', 'snp_500_volatility', 'kodex_volatility',\\\n",
    "       'tiger_volatility', 'tbx_volatility'], axis = 1)"
   ]
  },
  {
   "cell_type": "code",
   "execution_count": 92,
   "id": "851aeb8f",
   "metadata": {},
   "outputs": [],
   "source": [
    "x_train, x_test = x.iloc[:560], x.iloc[560:]\n",
    "y_train, y_test = y.iloc[:560], y.iloc[560:]"
   ]
  },
  {
   "cell_type": "code",
   "execution_count": 93,
   "id": "c263b983",
   "metadata": {},
   "outputs": [],
   "source": [
    "# 스케일링\n",
    "\n",
    "scaled = StandardScaler()\n",
    "scaled.fit(x_train)\n",
    "x_train_scaled = scaled.transform(x_train)\n",
    "x_test_scaled = scaled.transform(x_test)"
   ]
  },
  {
   "cell_type": "code",
   "execution_count": 94,
   "id": "d390630f",
   "metadata": {},
   "outputs": [
    {
     "name": "stdout",
     "output_type": "stream",
     "text": [
      "train : 0.9940160086876785\n",
      "test : -4.652828445217765\n"
     ]
    }
   ],
   "source": [
    "# LinearRegression \n",
    "\n",
    "lr = LinearRegression()\n",
    "lr.fit(x_train_scaled, y_train)\n",
    "preds_lr = lr.predict(x_test_scaled)\n",
    "print('train :', lr.score(x_train_scaled,y_train))\n",
    "print('test :', lr.score(x_test_scaled,y_test))"
   ]
  },
  {
   "cell_type": "code",
   "execution_count": 95,
   "id": "540bd490",
   "metadata": {},
   "outputs": [
    {
     "name": "stdout",
     "output_type": "stream",
     "text": [
      "0.9938837740952865\n",
      "-10.277004043418255\n"
     ]
    }
   ],
   "source": [
    "# Ridge\n",
    "\n",
    "rid = Ridge(alpha=0.01)\n",
    "rid.fit(x_train_scaled, y_train)\n",
    "print(rid.score(x_train_scaled, y_train))\n",
    "print(rid.score(x_test_scaled, y_test))"
   ]
  },
  {
   "cell_type": "code",
   "execution_count": 96,
   "id": "a802124f",
   "metadata": {},
   "outputs": [
    {
     "name": "stdout",
     "output_type": "stream",
     "text": [
      "[0.9934955385124848, 0.9934938591046596, 0.992915661506559, 0.9888942808337299, 0.9835232883336259, 0.7990634032942536]\n",
      "[-1.0517672294469258, -0.6678832348214327, 0.5650909234897197, 0.4981136068926222, 0.46653081747994585, -0.16438565118801862]\n"
     ]
    },
    {
     "name": "stderr",
     "output_type": "stream",
     "text": [
      "C:\\Users\\bitcamp\\anaconda3\\lib\\site-packages\\sklearn\\linear_model\\_coordinate_descent.py:647: ConvergenceWarning: Objective did not converge. You might want to increase the number of iterations, check the scale of the features or consider increasing regularisation. Duality gap: 1.039e+05, tolerance: 3.248e+03\n",
      "  model = cd_fast.enet_coordinate_descent(\n",
      "C:\\Users\\bitcamp\\anaconda3\\lib\\site-packages\\sklearn\\linear_model\\_coordinate_descent.py:647: ConvergenceWarning: Objective did not converge. You might want to increase the number of iterations, check the scale of the features or consider increasing regularisation. Duality gap: 8.894e+04, tolerance: 3.248e+03\n",
      "  model = cd_fast.enet_coordinate_descent(\n",
      "C:\\Users\\bitcamp\\anaconda3\\lib\\site-packages\\sklearn\\linear_model\\_coordinate_descent.py:647: ConvergenceWarning: Objective did not converge. You might want to increase the number of iterations, check the scale of the features or consider increasing regularisation. Duality gap: 1.880e+04, tolerance: 3.248e+03\n",
      "  model = cd_fast.enet_coordinate_descent(\n"
     ]
    }
   ],
   "source": [
    "# Lasso\n",
    "\n",
    "train_score = []\n",
    "test_score = []\n",
    "alpha_list = [0.001, 0.01, 0.1, 1, 10, 100]\n",
    "\n",
    "for alpha in alpha_list:\n",
    "    las = Lasso(alpha=alpha)\n",
    "    las.fit(x_train_scaled, y_train)\n",
    "    train_score.append(las.score(x_train_scaled, y_train))\n",
    "    test_score.append(las.score(x_test_scaled, y_test))\n",
    "    preds_las = las.predict(x_test_scaled)\n",
    "print(train_score)\n",
    "print(test_score)"
   ]
  },
  {
   "cell_type": "code",
   "execution_count": 97,
   "id": "e6869a0c",
   "metadata": {},
   "outputs": [
    {
     "name": "stdout",
     "output_type": "stream",
     "text": [
      "0.9888942808337299\n",
      "0.4981136068926222\n"
     ]
    }
   ],
   "source": [
    "las = Lasso(alpha=1)\n",
    "las.fit(x_train_scaled, y_train)\n",
    "preds = las.predict(x_test_scaled)\n",
    "print(las.score(x_train_scaled, y_train))\n",
    "print(las.score(x_test_scaled, y_test))"
   ]
  },
  {
   "cell_type": "code",
   "execution_count": 98,
   "id": "089574a5",
   "metadata": {},
   "outputs": [
    {
     "name": "stdout",
     "output_type": "stream",
     "text": [
      "0.9901028207270707\n",
      "-0.6387908124126362\n"
     ]
    },
    {
     "name": "stderr",
     "output_type": "stream",
     "text": [
      "C:\\Users\\bitcamp\\anaconda3\\lib\\site-packages\\sklearn\\linear_model\\_coordinate_descent.py:647: ConvergenceWarning: Objective did not converge. You might want to increase the number of iterations, check the scale of the features or consider increasing regularisation. Duality gap: 3.497e+04, tolerance: 3.248e+03\n",
      "  model = cd_fast.enet_coordinate_descent(\n"
     ]
    }
   ],
   "source": [
    "# ElasticNet\n",
    "\n",
    "from sklearn.linear_model import ElasticNet\n",
    "\n",
    "el= ElasticNet(alpha=0.09, l1_ratio=0.8)\n",
    "el.fit(x_train_scaled, y_train)\n",
    "preds_el = el.predict(x_test_scaled)\n",
    "print(el.score(x_train_scaled, y_train))\n",
    "print(el.score(x_test_scaled, y_test))"
   ]
  },
  {
   "cell_type": "code",
   "execution_count": null,
   "id": "84f9d228",
   "metadata": {},
   "outputs": [],
   "source": []
  },
  {
   "cell_type": "code",
   "execution_count": null,
   "id": "a21f6411",
   "metadata": {},
   "outputs": [],
   "source": []
  },
  {
   "cell_type": "code",
   "execution_count": null,
   "id": "0b1a2d32",
   "metadata": {},
   "outputs": [],
   "source": []
  },
  {
   "cell_type": "code",
   "execution_count": 83,
   "id": "b872a854",
   "metadata": {},
   "outputs": [],
   "source": [
    "#### 피쳐 => 거래량 제외\n",
    "\n",
    "y = df_['tesla']\n",
    "x = df_.drop(['date', 'tesla', 'tesla_거래량', 'EVE거래량', 'BYD거래량', 'DRIV거래량', 'ACDC거래량',\\\n",
    "       'kars_거래량', 'batt_거래량', 'PSI거래량', 'SOXX거래량', 'SOXL거래량',\\\n",
    "       'LIT거래량', 'nasdaq_거래량', 'ssec_거래량', 'kodex_거래량', 'tiger_거래량',\\\n",
    "       'tbx_거래량'], axis = 1)"
   ]
  },
  {
   "cell_type": "code",
   "execution_count": 84,
   "id": "fe87c01e",
   "metadata": {},
   "outputs": [],
   "source": [
    "x_train, x_test = x.iloc[:560], x.iloc[560:]\n",
    "y_train, y_test = y.iloc[:560], y.iloc[560:]"
   ]
  },
  {
   "cell_type": "code",
   "execution_count": 85,
   "id": "f684793f",
   "metadata": {},
   "outputs": [],
   "source": [
    "# 스케일링\n",
    "\n",
    "scaled = StandardScaler()\n",
    "scaled.fit(x_train)\n",
    "x_train_scaled = scaled.transform(x_train)\n",
    "x_test_scaled = scaled.transform(x_test)"
   ]
  },
  {
   "cell_type": "code",
   "execution_count": 86,
   "id": "cbee0ea3",
   "metadata": {},
   "outputs": [
    {
     "name": "stdout",
     "output_type": "stream",
     "text": [
      "train : 0.9941038613970234\n",
      "test : -0.10161733637238624\n"
     ]
    }
   ],
   "source": [
    "# LinearRegression \n",
    "\n",
    "lr = LinearRegression()\n",
    "lr.fit(x_train_scaled, y_train)\n",
    "preds_lr = lr.predict(x_test_scaled)\n",
    "print('train :', lr.score(x_train_scaled,y_train))\n",
    "print('test :', lr.score(x_test_scaled,y_test))"
   ]
  },
  {
   "cell_type": "code",
   "execution_count": 87,
   "id": "0d6797ca",
   "metadata": {},
   "outputs": [
    {
     "name": "stdout",
     "output_type": "stream",
     "text": [
      "0.9940145326781594\n",
      "-8.72910938891068\n"
     ]
    }
   ],
   "source": [
    "# Ridge\n",
    "\n",
    "rid = Ridge(alpha=0.01)\n",
    "rid.fit(x_train_scaled, y_train)\n",
    "print(rid.score(x_train_scaled, y_train))\n",
    "print(rid.score(x_test_scaled, y_test))"
   ]
  },
  {
   "cell_type": "code",
   "execution_count": 88,
   "id": "12a74a3a",
   "metadata": {},
   "outputs": [
    {
     "name": "stdout",
     "output_type": "stream",
     "text": [
      "[0.9935433220361627, 0.9935439936991814, 0.9929425717237649, 0.9878824799651877, 0.9813886952300684, 0.7990634032942536]\n",
      "[-0.9632844843805006, -0.666799546795686, 0.5736448781849018, 0.2592962544321169, 0.24912890741433713, -0.16438565118801862]\n"
     ]
    },
    {
     "name": "stderr",
     "output_type": "stream",
     "text": [
      "C:\\Users\\bitcamp\\anaconda3\\lib\\site-packages\\sklearn\\linear_model\\_coordinate_descent.py:647: ConvergenceWarning: Objective did not converge. You might want to increase the number of iterations, check the scale of the features or consider increasing regularisation. Duality gap: 1.029e+05, tolerance: 3.248e+03\n",
      "  model = cd_fast.enet_coordinate_descent(\n",
      "C:\\Users\\bitcamp\\anaconda3\\lib\\site-packages\\sklearn\\linear_model\\_coordinate_descent.py:647: ConvergenceWarning: Objective did not converge. You might want to increase the number of iterations, check the scale of the features or consider increasing regularisation. Duality gap: 8.647e+04, tolerance: 3.248e+03\n",
      "  model = cd_fast.enet_coordinate_descent(\n",
      "C:\\Users\\bitcamp\\anaconda3\\lib\\site-packages\\sklearn\\linear_model\\_coordinate_descent.py:647: ConvergenceWarning: Objective did not converge. You might want to increase the number of iterations, check the scale of the features or consider increasing regularisation. Duality gap: 2.713e+04, tolerance: 3.248e+03\n",
      "  model = cd_fast.enet_coordinate_descent(\n"
     ]
    }
   ],
   "source": [
    "# Lasso\n",
    "\n",
    "train_score = []\n",
    "test_score = []\n",
    "alpha_list = [0.001, 0.01, 0.1, 1, 10, 100]\n",
    "\n",
    "for alpha in alpha_list:\n",
    "    las = Lasso(alpha=alpha)\n",
    "    las.fit(x_train_scaled, y_train)\n",
    "    train_score.append(las.score(x_train_scaled, y_train))\n",
    "    test_score.append(las.score(x_test_scaled, y_test))\n",
    "    preds_las = las.predict(x_test_scaled)\n",
    "print(train_score)\n",
    "print(test_score)"
   ]
  },
  {
   "cell_type": "code",
   "execution_count": 89,
   "id": "616aa47e",
   "metadata": {},
   "outputs": [
    {
     "name": "stdout",
     "output_type": "stream",
     "text": [
      "0.9878824799651877\n",
      "0.2592962544321169\n"
     ]
    }
   ],
   "source": [
    "las = Lasso(alpha=1)\n",
    "las.fit(x_train_scaled, y_train)\n",
    "preds = las.predict(x_test_scaled)\n",
    "print(las.score(x_train_scaled, y_train))\n",
    "print(las.score(x_test_scaled, y_test))"
   ]
  },
  {
   "cell_type": "code",
   "execution_count": 107,
   "id": "b676a35b",
   "metadata": {},
   "outputs": [
    {
     "name": "stdout",
     "output_type": "stream",
     "text": [
      "0.989200427906066\n",
      "0.3730458851414854\n"
     ]
    },
    {
     "name": "stderr",
     "output_type": "stream",
     "text": [
      "C:\\Users\\bitcamp\\anaconda3\\lib\\site-packages\\sklearn\\linear_model\\_coordinate_descent.py:647: ConvergenceWarning: Objective did not converge. You might want to increase the number of iterations, check the scale of the features or consider increasing regularisation. Duality gap: 1.663e+04, tolerance: 3.248e+03\n",
      "  model = cd_fast.enet_coordinate_descent(\n"
     ]
    }
   ],
   "source": [
    "# ElasticNet\n",
    "\n",
    "from sklearn.linear_model import ElasticNet\n",
    "\n",
    "el= ElasticNet(alpha=0.09, l1_ratio=0.8)\n",
    "el.fit(x_train_scaled, y_train)\n",
    "preds_el = el.predict(x_test_scaled)\n",
    "print(el.score(x_train_scaled, y_train))\n",
    "print(el.score(x_test_scaled, y_test))"
   ]
  },
  {
   "cell_type": "code",
   "execution_count": null,
   "id": "3d909d06",
   "metadata": {},
   "outputs": [],
   "source": []
  },
  {
   "cell_type": "code",
   "execution_count": null,
   "id": "e4de92fa",
   "metadata": {},
   "outputs": [],
   "source": []
  },
  {
   "cell_type": "code",
   "execution_count": null,
   "id": "5ec85d92",
   "metadata": {},
   "outputs": [],
   "source": []
  },
  {
   "cell_type": "code",
   "execution_count": 82,
   "id": "fbcf598a",
   "metadata": {},
   "outputs": [
    {
     "data": {
      "text/plain": [
       "Index(['date', 'tesla', 'tesla_거래량', 'tesla_volatility', 'elec_fee',\n",
       "       'oil_price', 'oil_price_volatility', 'carbon_credits',\n",
       "       'carbon_credits_volatility', 'EVE종가', 'EVE거래량', 'EVE변동률', 'BYD종가',\n",
       "       'BYD거래량', 'BYD변동률', 'DRIV종가', 'DRIV거래량', 'ACDC종가', 'ACDC거래량', 'kars',\n",
       "       'kars_거래량', 'kars_volatility', 'batt', 'batt_거래량', 'batt_volatility',\n",
       "       'PSI종가', 'PSI거래량', 'SOXX종가', 'SOXX거래량', 'SOXL종가', 'SOXL거래량', 'LIT조정종가',\n",
       "       'LIT거래량', 'SGL종가', 'SGL변동률', 'li_price', 'co', 'co_volatility', '희토류가격',\n",
       "       'nasdaq', 'nasdaq_거래량', 'nasdaq_volatility', 'ssec', 'ssec_거래량',\n",
       "       'ssec_volatility', 'dollar', 'dollar_volatility', 'alu_price',\n",
       "       'alu_vol', 'alu_change', 'cu_price', 'cu_change', 'REGI_price',\n",
       "       'REGI_vol', 'REGI_change', 'snp_500', 'snp_500_volatility', 'kodex',\n",
       "       'kodex_거래량', 'kodex_volatility', 'tiger', 'tiger_거래량',\n",
       "       'tiger_volatility', 'tbx', 'tbx_거래량', 'tbx_volatility', '검색량', '매출액',\n",
       "       '매출원가', '매출총이익', '영업이익', '순이익', '자산총계', '매출총이익률', '영업이익률',\n",
       "       '주당순이익EPS(달러)', '주가수익배수PER(배)', '총자산이익률ROA(%)'],\n",
       "      dtype='object')"
      ]
     },
     "execution_count": 82,
     "metadata": {},
     "output_type": "execute_result"
    }
   ],
   "source": [
    "df_.columns"
   ]
  },
  {
   "cell_type": "code",
   "execution_count": 100,
   "id": "4c5ff545",
   "metadata": {},
   "outputs": [],
   "source": [
    "#### 피쳐 => S & P, 재무재표 제외\n",
    "\n",
    "y = df_['tesla']\n",
    "x = df_.drop(['date','tesla', 'snp_500', 'snp_500_volatility', '매출액',\n",
    "       '매출원가', '매출총이익', '영업이익', '순이익', '자산총계', '매출총이익률', '영업이익률',\n",
    "       '주당순이익EPS(달러)', '주가수익배수PER(배)', '총자산이익률ROA(%)'], axis = 1)"
   ]
  },
  {
   "cell_type": "code",
   "execution_count": 101,
   "id": "3cc841bb",
   "metadata": {},
   "outputs": [],
   "source": [
    "x_train, x_test = x.iloc[:560], x.iloc[560:]\n",
    "y_train, y_test = y.iloc[:560], y.iloc[560:]"
   ]
  },
  {
   "cell_type": "code",
   "execution_count": 102,
   "id": "d62b3228",
   "metadata": {},
   "outputs": [],
   "source": [
    "# 스케일링\n",
    "\n",
    "scaled = StandardScaler()\n",
    "scaled.fit(x_train)\n",
    "x_train_scaled = scaled.transform(x_train)\n",
    "x_test_scaled = scaled.transform(x_test)"
   ]
  },
  {
   "cell_type": "code",
   "execution_count": 103,
   "id": "aa70682c",
   "metadata": {},
   "outputs": [
    {
     "name": "stdout",
     "output_type": "stream",
     "text": [
      "train : 0.9916011390722994\n",
      "test : 0.06579241931974034\n"
     ]
    }
   ],
   "source": [
    "# LinearRegression \n",
    "\n",
    "lr = LinearRegression()\n",
    "lr.fit(x_train_scaled, y_train)\n",
    "preds_lr = lr.predict(x_test_scaled)\n",
    "print('train :', lr.score(x_train_scaled,y_train))\n",
    "print('test :', lr.score(x_test_scaled,y_test))"
   ]
  },
  {
   "cell_type": "code",
   "execution_count": 104,
   "id": "04a335fc",
   "metadata": {},
   "outputs": [
    {
     "name": "stdout",
     "output_type": "stream",
     "text": [
      "0.9915995133624257\n",
      "0.07648985231517547\n"
     ]
    }
   ],
   "source": [
    "# Ridge\n",
    "\n",
    "rid = Ridge(alpha=0.01)\n",
    "rid.fit(x_train_scaled, y_train)\n",
    "print(rid.score(x_train_scaled, y_train))\n",
    "print(rid.score(x_test_scaled, y_test))"
   ]
  },
  {
   "cell_type": "code",
   "execution_count": 105,
   "id": "ac2a8a88",
   "metadata": {},
   "outputs": [
    {
     "name": "stdout",
     "output_type": "stream",
     "text": [
      "[0.9914845796994419, 0.9914693260827733, 0.9908856201734755, 0.9876731823253445, 0.9796110216210592, 0.7896390008818883]\n",
      "[0.011323141675789627, 0.00854283366258346, 0.15806252306142365, 0.4588540589715231, 0.42741810061590635, -0.5115468239277701]\n"
     ]
    },
    {
     "name": "stderr",
     "output_type": "stream",
     "text": [
      "C:\\Users\\bitcamp\\anaconda3\\lib\\site-packages\\sklearn\\linear_model\\_coordinate_descent.py:647: ConvergenceWarning: Objective did not converge. You might want to increase the number of iterations, check the scale of the features or consider increasing regularisation. Duality gap: 1.341e+05, tolerance: 3.248e+03\n",
      "  model = cd_fast.enet_coordinate_descent(\n",
      "C:\\Users\\bitcamp\\anaconda3\\lib\\site-packages\\sklearn\\linear_model\\_coordinate_descent.py:647: ConvergenceWarning: Objective did not converge. You might want to increase the number of iterations, check the scale of the features or consider increasing regularisation. Duality gap: 9.158e+04, tolerance: 3.248e+03\n",
      "  model = cd_fast.enet_coordinate_descent(\n",
      "C:\\Users\\bitcamp\\anaconda3\\lib\\site-packages\\sklearn\\linear_model\\_coordinate_descent.py:647: ConvergenceWarning: Objective did not converge. You might want to increase the number of iterations, check the scale of the features or consider increasing regularisation. Duality gap: 7.363e+03, tolerance: 3.248e+03\n",
      "  model = cd_fast.enet_coordinate_descent(\n"
     ]
    }
   ],
   "source": [
    "# Lasso\n",
    "\n",
    "train_score = []\n",
    "test_score = []\n",
    "alpha_list = [0.001, 0.01, 0.1, 1, 10, 100]\n",
    "\n",
    "for alpha in alpha_list:\n",
    "    las = Lasso(alpha=alpha)\n",
    "    las.fit(x_train_scaled, y_train)\n",
    "    train_score.append(las.score(x_train_scaled, y_train))\n",
    "    test_score.append(las.score(x_test_scaled, y_test))\n",
    "    preds_las = las.predict(x_test_scaled)\n",
    "print(train_score)\n",
    "print(test_score)"
   ]
  },
  {
   "cell_type": "code",
   "execution_count": 106,
   "id": "081eb75c",
   "metadata": {},
   "outputs": [
    {
     "name": "stdout",
     "output_type": "stream",
     "text": [
      "0.9876731823253445\n",
      "0.4588540589715231\n"
     ]
    }
   ],
   "source": [
    "las = Lasso(alpha=1)\n",
    "las.fit(x_train_scaled, y_train)\n",
    "preds = las.predict(x_test_scaled)\n",
    "print(las.score(x_train_scaled, y_train))\n",
    "print(las.score(x_test_scaled, y_test))"
   ]
  },
  {
   "cell_type": "code",
   "execution_count": 117,
   "id": "cf250ce7",
   "metadata": {},
   "outputs": [
    {
     "name": "stdout",
     "output_type": "stream",
     "text": [
      "0.9890697082985874\n",
      "0.4000733092569022\n"
     ]
    },
    {
     "name": "stderr",
     "output_type": "stream",
     "text": [
      "C:\\Users\\bitcamp\\anaconda3\\lib\\site-packages\\sklearn\\linear_model\\_coordinate_descent.py:647: ConvergenceWarning: Objective did not converge. You might want to increase the number of iterations, check the scale of the features or consider increasing regularisation. Duality gap: 1.328e+04, tolerance: 3.248e+03\n",
      "  model = cd_fast.enet_coordinate_descent(\n"
     ]
    }
   ],
   "source": [
    "# ElasticNet\n",
    "\n",
    "from sklearn.linear_model import ElasticNet\n",
    "\n",
    "el= ElasticNet(alpha=0.1, l1_ratio=0.8)\n",
    "el.fit(x_train_scaled, y_train)\n",
    "preds_el = el.predict(x_test_scaled)\n",
    "print(el.score(x_train_scaled, y_train))\n",
    "print(el.score(x_test_scaled, y_test))"
   ]
  },
  {
   "cell_type": "code",
   "execution_count": null,
   "id": "12ba19fd",
   "metadata": {},
   "outputs": [],
   "source": []
  }
 ],
 "metadata": {
  "kernelspec": {
   "display_name": "Python 3 (ipykernel)",
   "language": "python",
   "name": "python3"
  },
  "language_info": {
   "codemirror_mode": {
    "name": "ipython",
    "version": 3
   },
   "file_extension": ".py",
   "mimetype": "text/x-python",
   "name": "python",
   "nbconvert_exporter": "python",
   "pygments_lexer": "ipython3",
   "version": "3.9.7"
  }
 },
 "nbformat": 4,
 "nbformat_minor": 5
}
